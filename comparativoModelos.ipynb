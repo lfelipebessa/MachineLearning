{
 "cells": [
  {
   "cell_type": "markdown",
   "id": "b9d58db4",
   "metadata": {},
   "source": [
    "# 📊 Comparativo de Modelos — Aprovação de Proposições\n",
    "\n",
    "**Objetivo:** Comparar diversos algoritmos de classificação (Decision Tree, Random Forest, KNN, SVM e XGBoost) para prever se uma proposição legislativa será aprovada ou não.\n",
    "\n",
    "Este notebook segue todos os passos de:\n",
    "1. Carregamento e limpeza do dataset consolidado.\n",
    "2. Pré-processamento (tratamento de colunas categóricas e numéricas).\n",
    "3. Definição de pipelines para cada modelo.\n",
    "4. Treino/Teste + avaliação de métricas (acurácia, precision, recall, f1).\n",
    "5. Validação cruzada (5 folds) para Random Forest e plotagem de boxplot.\n",
    "6. Geração de tabela comparativa e gráfico de barras.\n",
    "7. Conclusões.\n"
   ]
  },
  {
   "cell_type": "markdown",
   "id": "4bfd93b7",
   "metadata": {},
   "source": [
    "## 1. Importar Bibliotecas"
   ]
  },
  {
   "cell_type": "code",
   "execution_count": 1,
   "id": "e605d341",
   "metadata": {},
   "outputs": [
    {
     "ename": "KeyboardInterrupt",
     "evalue": "",
     "output_type": "error",
     "traceback": [
      "\u001b[31m---------------------------------------------------------------------------\u001b[39m",
      "\u001b[31mKeyboardInterrupt\u001b[39m                         Traceback (most recent call last)",
      "\u001b[36mCell\u001b[39m\u001b[36m \u001b[39m\u001b[32mIn[1]\u001b[39m\u001b[32m, line 6\u001b[39m\n\u001b[32m      4\u001b[39m \u001b[38;5;28;01mimport\u001b[39;00m\u001b[38;5;250m \u001b[39m\u001b[34;01mnumpy\u001b[39;00m\u001b[38;5;250m \u001b[39m\u001b[38;5;28;01mas\u001b[39;00m\u001b[38;5;250m \u001b[39m\u001b[34;01mnp\u001b[39;00m\n\u001b[32m      5\u001b[39m \u001b[38;5;28;01mimport\u001b[39;00m\u001b[38;5;250m \u001b[39m\u001b[34;01mmatplotlib\u001b[39;00m\u001b[34;01m.\u001b[39;00m\u001b[34;01mpyplot\u001b[39;00m\u001b[38;5;250m \u001b[39m\u001b[38;5;28;01mas\u001b[39;00m\u001b[38;5;250m \u001b[39m\u001b[34;01mplt\u001b[39;00m\n\u001b[32m----> \u001b[39m\u001b[32m6\u001b[39m \u001b[38;5;28;01mimport\u001b[39;00m\u001b[38;5;250m \u001b[39m\u001b[34;01mseaborn\u001b[39;00m\u001b[38;5;250m \u001b[39m\u001b[38;5;28;01mas\u001b[39;00m\u001b[38;5;250m \u001b[39m\u001b[34;01msns\u001b[39;00m\n\u001b[32m      8\u001b[39m \u001b[38;5;28;01mfrom\u001b[39;00m\u001b[38;5;250m \u001b[39m\u001b[34;01msklearn\u001b[39;00m\u001b[34;01m.\u001b[39;00m\u001b[34;01mmodel_selection\u001b[39;00m\u001b[38;5;250m \u001b[39m\u001b[38;5;28;01mimport\u001b[39;00m train_test_split, StratifiedKFold, cross_val_score\n\u001b[32m      9\u001b[39m \u001b[38;5;28;01mfrom\u001b[39;00m\u001b[38;5;250m \u001b[39m\u001b[34;01msklearn\u001b[39;00m\u001b[34;01m.\u001b[39;00m\u001b[34;01mpreprocessing\u001b[39;00m\u001b[38;5;250m \u001b[39m\u001b[38;5;28;01mimport\u001b[39;00m OneHotEncoder, StandardScaler\n",
      "\u001b[36mFile \u001b[39m\u001b[32mc:\\Users\\VENDA\\AppData\\Local\\Programs\\Python\\Python313\\Lib\\site-packages\\seaborn\\__init__.py:9\u001b[39m\n\u001b[32m      7\u001b[39m \u001b[38;5;28;01mfrom\u001b[39;00m\u001b[38;5;250m \u001b[39m\u001b[34;01m.\u001b[39;00m\u001b[34;01mcategorical\u001b[39;00m\u001b[38;5;250m \u001b[39m\u001b[38;5;28;01mimport\u001b[39;00m *  \u001b[38;5;66;03m# noqa: F401,F403\u001b[39;00m\n\u001b[32m      8\u001b[39m \u001b[38;5;28;01mfrom\u001b[39;00m\u001b[38;5;250m \u001b[39m\u001b[34;01m.\u001b[39;00m\u001b[34;01mdistributions\u001b[39;00m\u001b[38;5;250m \u001b[39m\u001b[38;5;28;01mimport\u001b[39;00m *  \u001b[38;5;66;03m# noqa: F401,F403\u001b[39;00m\n\u001b[32m----> \u001b[39m\u001b[32m9\u001b[39m \u001b[38;5;28;01mfrom\u001b[39;00m\u001b[38;5;250m \u001b[39m\u001b[34;01m.\u001b[39;00m\u001b[34;01mmatrix\u001b[39;00m\u001b[38;5;250m \u001b[39m\u001b[38;5;28;01mimport\u001b[39;00m *  \u001b[38;5;66;03m# noqa: F401,F403\u001b[39;00m\n\u001b[32m     10\u001b[39m \u001b[38;5;28;01mfrom\u001b[39;00m\u001b[38;5;250m \u001b[39m\u001b[34;01m.\u001b[39;00m\u001b[34;01mmiscplot\u001b[39;00m\u001b[38;5;250m \u001b[39m\u001b[38;5;28;01mimport\u001b[39;00m *  \u001b[38;5;66;03m# noqa: F401,F403\u001b[39;00m\n\u001b[32m     11\u001b[39m \u001b[38;5;28;01mfrom\u001b[39;00m\u001b[38;5;250m \u001b[39m\u001b[34;01m.\u001b[39;00m\u001b[34;01maxisgrid\u001b[39;00m\u001b[38;5;250m \u001b[39m\u001b[38;5;28;01mimport\u001b[39;00m *  \u001b[38;5;66;03m# noqa: F401,F403\u001b[39;00m\n",
      "\u001b[36mFile \u001b[39m\u001b[32mc:\\Users\\VENDA\\AppData\\Local\\Programs\\Python\\Python313\\Lib\\site-packages\\seaborn\\matrix.py:11\u001b[39m\n\u001b[32m      9\u001b[39m \u001b[38;5;28;01mimport\u001b[39;00m\u001b[38;5;250m \u001b[39m\u001b[34;01mpandas\u001b[39;00m\u001b[38;5;250m \u001b[39m\u001b[38;5;28;01mas\u001b[39;00m\u001b[38;5;250m \u001b[39m\u001b[34;01mpd\u001b[39;00m\n\u001b[32m     10\u001b[39m \u001b[38;5;28;01mtry\u001b[39;00m:\n\u001b[32m---> \u001b[39m\u001b[32m11\u001b[39m     \u001b[38;5;28;01mfrom\u001b[39;00m\u001b[38;5;250m \u001b[39m\u001b[34;01mscipy\u001b[39;00m\u001b[34;01m.\u001b[39;00m\u001b[34;01mcluster\u001b[39;00m\u001b[38;5;250m \u001b[39m\u001b[38;5;28;01mimport\u001b[39;00m hierarchy\n\u001b[32m     12\u001b[39m     _no_scipy = \u001b[38;5;28;01mFalse\u001b[39;00m\n\u001b[32m     13\u001b[39m \u001b[38;5;28;01mexcept\u001b[39;00m \u001b[38;5;167;01mImportError\u001b[39;00m:\n",
      "\u001b[36mFile \u001b[39m\u001b[32mc:\\Users\\VENDA\\AppData\\Local\\Programs\\Python\\Python313\\Lib\\site-packages\\scipy\\cluster\\__init__.py:27\u001b[39m\n\u001b[32m      1\u001b[39m \u001b[33;03m\"\"\"\u001b[39;00m\n\u001b[32m      2\u001b[39m \u001b[33;03m=========================================\u001b[39;00m\n\u001b[32m      3\u001b[39m \u001b[33;03mClustering package (:mod:`scipy.cluster`)\u001b[39;00m\n\u001b[32m   (...)\u001b[39m\u001b[32m     23\u001b[39m \n\u001b[32m     24\u001b[39m \u001b[33;03m\"\"\"\u001b[39;00m\n\u001b[32m     25\u001b[39m __all__ = [\u001b[33m'\u001b[39m\u001b[33mvq\u001b[39m\u001b[33m'\u001b[39m, \u001b[33m'\u001b[39m\u001b[33mhierarchy\u001b[39m\u001b[33m'\u001b[39m]\n\u001b[32m---> \u001b[39m\u001b[32m27\u001b[39m \u001b[38;5;28;01mfrom\u001b[39;00m\u001b[38;5;250m \u001b[39m\u001b[34;01m.\u001b[39;00m\u001b[38;5;250m \u001b[39m\u001b[38;5;28;01mimport\u001b[39;00m vq, hierarchy\n\u001b[32m     29\u001b[39m \u001b[38;5;28;01mfrom\u001b[39;00m\u001b[38;5;250m \u001b[39m\u001b[34;01mscipy\u001b[39;00m\u001b[34;01m.\u001b[39;00m\u001b[34;01m_lib\u001b[39;00m\u001b[34;01m.\u001b[39;00m\u001b[34;01m_testutils\u001b[39;00m\u001b[38;5;250m \u001b[39m\u001b[38;5;28;01mimport\u001b[39;00m PytestTester\n\u001b[32m     30\u001b[39m test = PytestTester(\u001b[34m__name__\u001b[39m)\n",
      "\u001b[36mFile \u001b[39m\u001b[32mc:\\Users\\VENDA\\AppData\\Local\\Programs\\Python\\Python313\\Lib\\site-packages\\scipy\\cluster\\hierarchy.py:135\u001b[39m\n\u001b[32m    132\u001b[39m \u001b[38;5;28;01mfrom\u001b[39;00m\u001b[38;5;250m \u001b[39m\u001b[34;01mcollections\u001b[39;00m\u001b[38;5;250m \u001b[39m\u001b[38;5;28;01mimport\u001b[39;00m deque\n\u001b[32m    134\u001b[39m \u001b[38;5;28;01mimport\u001b[39;00m\u001b[38;5;250m \u001b[39m\u001b[34;01mnumpy\u001b[39;00m\u001b[38;5;250m \u001b[39m\u001b[38;5;28;01mas\u001b[39;00m\u001b[38;5;250m \u001b[39m\u001b[34;01mnp\u001b[39;00m\n\u001b[32m--> \u001b[39m\u001b[32m135\u001b[39m \u001b[38;5;28;01mfrom\u001b[39;00m\u001b[38;5;250m \u001b[39m\u001b[34;01m.\u001b[39;00m\u001b[38;5;250m \u001b[39m\u001b[38;5;28;01mimport\u001b[39;00m _hierarchy, _optimal_leaf_ordering\n\u001b[32m    136\u001b[39m \u001b[38;5;28;01mimport\u001b[39;00m\u001b[38;5;250m \u001b[39m\u001b[34;01mscipy\u001b[39;00m\u001b[34;01m.\u001b[39;00m\u001b[34;01mspatial\u001b[39;00m\u001b[34;01m.\u001b[39;00m\u001b[34;01mdistance\u001b[39;00m\u001b[38;5;250m \u001b[39m\u001b[38;5;28;01mas\u001b[39;00m\u001b[38;5;250m \u001b[39m\u001b[34;01mdistance\u001b[39;00m\n\u001b[32m    137\u001b[39m \u001b[38;5;28;01mfrom\u001b[39;00m\u001b[38;5;250m \u001b[39m\u001b[34;01mscipy\u001b[39;00m\u001b[34;01m.\u001b[39;00m\u001b[34;01m_lib\u001b[39;00m\u001b[34;01m.\u001b[39;00m\u001b[34;01m_array_api\u001b[39;00m\u001b[38;5;250m \u001b[39m\u001b[38;5;28;01mimport\u001b[39;00m array_namespace, _asarray, xp_copy, is_jax\n",
      "\u001b[36mFile \u001b[39m\u001b[32m<frozen importlib._bootstrap>:645\u001b[39m, in \u001b[36mparent\u001b[39m\u001b[34m(self)\u001b[39m\n",
      "\u001b[31mKeyboardInterrupt\u001b[39m: "
     ]
    }
   ],
   "source": [
    "import os\n",
    "import ast\n",
    "import pandas as pd\n",
    "import numpy as np\n",
    "import matplotlib.pyplot as plt\n",
    "import seaborn as sns\n",
    "\n",
    "from sklearn.model_selection import train_test_split, StratifiedKFold, cross_val_score\n",
    "from sklearn.preprocessing import OneHotEncoder, StandardScaler\n",
    "from sklearn.compose import ColumnTransformer\n",
    "from sklearn.pipeline import Pipeline\n",
    "from sklearn.metrics import accuracy_score, precision_score, recall_score, f1_score, classification_report, confusion_matrix\n",
    "\n",
    "# Importar algoritmos\n",
    "from sklearn.tree import DecisionTreeClassifier\n",
    "from sklearn.ensemble import RandomForestClassifier\n",
    "from sklearn.neighbors import KNeighborsClassifier\n",
    "from sklearn.svm import SVC\n",
    "from xgboost import XGBClassifier\n",
    "from sklearn.svm import LinearSVC"
   ]
  },
  {
   "cell_type": "markdown",
   "id": "677cfbc0",
   "metadata": {},
   "source": [
    "## 2. Carregar e Limpar o Dataset Consolidado"
   ]
  },
  {
   "cell_type": "code",
   "execution_count": 2,
   "id": "62147356",
   "metadata": {},
   "outputs": [
    {
     "name": "stdout",
     "output_type": "stream",
     "text": [
      "🔄 Carregando dataset completo de: c:\\Users\\VENDA\\Desktop\\MachineL\\CdD-ML\\dados\\df_consolidado.csv\n",
      "Dataset carregado: 3126323 linhas x 15 colunas\n",
      "Após dropna: 880952 linhas\n",
      "🔢 Colunas essenciais ajustadas. Exemplo de linhas:\n"
     ]
    },
    {
     "data": {
      "text/html": [
       "<div>\n",
       "<style scoped>\n",
       "    .dataframe tbody tr th:only-of-type {\n",
       "        vertical-align: middle;\n",
       "    }\n",
       "\n",
       "    .dataframe tbody tr th {\n",
       "        vertical-align: top;\n",
       "    }\n",
       "\n",
       "    .dataframe thead th {\n",
       "        text-align: right;\n",
       "    }\n",
       "</style>\n",
       "<table border=\"1\" class=\"dataframe\">\n",
       "  <thead>\n",
       "    <tr style=\"text-align: right;\">\n",
       "      <th></th>\n",
       "      <th>id_votacao</th>\n",
       "      <th>id_deputado</th>\n",
       "      <th>tipoVoto</th>\n",
       "      <th>siglaUf</th>\n",
       "      <th>id_partido</th>\n",
       "      <th>id_proposicao</th>\n",
       "      <th>data</th>\n",
       "      <th>sigla_orgao</th>\n",
       "      <th>aprovacao</th>\n",
       "      <th>cod_tipo</th>\n",
       "      <th>numero_proposicao</th>\n",
       "      <th>ano</th>\n",
       "      <th>orientacao</th>\n",
       "      <th>id_autor</th>\n",
       "      <th>tema</th>\n",
       "    </tr>\n",
       "  </thead>\n",
       "  <tbody>\n",
       "    <tr>\n",
       "      <th>2019</th>\n",
       "      <td>559138-241</td>\n",
       "      <td>156190</td>\n",
       "      <td>0</td>\n",
       "      <td>RS</td>\n",
       "      <td>37901.0</td>\n",
       "      <td>559138</td>\n",
       "      <td>2024-11-27</td>\n",
       "      <td>PLEN</td>\n",
       "      <td>0</td>\n",
       "      <td>139</td>\n",
       "      <td>6606</td>\n",
       "      <td>2019</td>\n",
       "      <td>Sim</td>\n",
       "      <td>160538.0</td>\n",
       "      <td>['Economia']</td>\n",
       "    </tr>\n",
       "    <tr>\n",
       "      <th>2022</th>\n",
       "      <td>559138-241</td>\n",
       "      <td>156190</td>\n",
       "      <td>0</td>\n",
       "      <td>RS</td>\n",
       "      <td>37901.0</td>\n",
       "      <td>559138</td>\n",
       "      <td>2024-11-27</td>\n",
       "      <td>PLEN</td>\n",
       "      <td>0</td>\n",
       "      <td>139</td>\n",
       "      <td>6606</td>\n",
       "      <td>2019</td>\n",
       "      <td>Sim</td>\n",
       "      <td>74784.0</td>\n",
       "      <td>['Economia']</td>\n",
       "    </tr>\n",
       "    <tr>\n",
       "      <th>2024</th>\n",
       "      <td>559138-241</td>\n",
       "      <td>156190</td>\n",
       "      <td>0</td>\n",
       "      <td>RS</td>\n",
       "      <td>37901.0</td>\n",
       "      <td>559138</td>\n",
       "      <td>2024-11-27</td>\n",
       "      <td>PLEN</td>\n",
       "      <td>0</td>\n",
       "      <td>139</td>\n",
       "      <td>6606</td>\n",
       "      <td>2019</td>\n",
       "      <td>Sim</td>\n",
       "      <td>160556.0</td>\n",
       "      <td>['Economia']</td>\n",
       "    </tr>\n",
       "  </tbody>\n",
       "</table>\n",
       "</div>"
      ],
      "text/plain": [
       "      id_votacao  id_deputado  tipoVoto siglaUf  id_partido  id_proposicao  \\\n",
       "2019  559138-241       156190         0      RS     37901.0         559138   \n",
       "2022  559138-241       156190         0      RS     37901.0         559138   \n",
       "2024  559138-241       156190         0      RS     37901.0         559138   \n",
       "\n",
       "            data sigla_orgao  aprovacao  cod_tipo  numero_proposicao   ano  \\\n",
       "2019  2024-11-27        PLEN          0       139               6606  2019   \n",
       "2022  2024-11-27        PLEN          0       139               6606  2019   \n",
       "2024  2024-11-27        PLEN          0       139               6606  2019   \n",
       "\n",
       "     orientacao  id_autor          tema  \n",
       "2019        Sim  160538.0  ['Economia']  \n",
       "2022        Sim   74784.0  ['Economia']  \n",
       "2024        Sim  160556.0  ['Economia']  "
      ]
     },
     "execution_count": 2,
     "metadata": {},
     "output_type": "execute_result"
    }
   ],
   "source": [
    "# Ajuste o caminho conforme a estrutura de diretórios\n",
    "BASE_DIR = os.getcwd()\n",
    "csv_path = os.path.join(BASE_DIR, \"dados\", \"df_consolidado.csv\")\n",
    "\n",
    "print(\"🔄 Carregando dataset completo de:\", csv_path)\n",
    "df = pd.read_csv(csv_path, low_memory=False)\n",
    "print(f\"Dataset carregado: {df.shape[0]} linhas x {df.shape[1]} colunas\")\n",
    "\n",
    "# Remover linhas com valores ausentes nas colunas essenciais:\n",
    "colunas_essenciais = [\n",
    "    \"id_votacao\", \"id_deputado\", \"tipoVoto\", \"siglaUf\", \"id_partido\",\n",
    "    \"id_proposicao\", \"data\", \"sigla_orgao\", \"aprovacao\", \"cod_tipo\",\n",
    "    \"numero_proposicao\", \"ano\", \"orientacao\", \"id_autor\", \"tema\"\n",
    "]\n",
    "df = df.dropna(subset=colunas_essenciais)\n",
    "print(f\"Após dropna: {df.shape[0]} linhas\")\n",
    "\n",
    "# Converter tipoVoto para binário (1=Sim, 0=Não)\n",
    "df[\"tipoVoto\"] = df[\"tipoVoto\"].map({\"Sim\": 1, \"Não\": 0}).fillna(0).astype(int)\n",
    "\n",
    "# Converter aprovado para inteiro (caso esteja float)\n",
    "df[\"aprovacao\"] = df[\"aprovacao\"].astype(int)\n",
    "\n",
    "print(\"🔢 Colunas essenciais ajustadas. Exemplo de linhas:\")\n",
    "df.head(3)"
   ]
  },
  {
   "cell_type": "markdown",
   "id": "eb9bacee",
   "metadata": {},
   "source": [
    "## 3. Definir X e y + Extração de `tema_principal`"
   ]
  },
  {
   "cell_type": "code",
   "execution_count": 3,
   "id": "7e224946",
   "metadata": {},
   "outputs": [
    {
     "name": "stdout",
     "output_type": "stream",
     "text": [
      "🧮 Definindo features e variável alvo...\n",
      "X após extração de tema_principal:\n"
     ]
    },
    {
     "data": {
      "text/html": [
       "<div>\n",
       "<style scoped>\n",
       "    .dataframe tbody tr th:only-of-type {\n",
       "        vertical-align: middle;\n",
       "    }\n",
       "\n",
       "    .dataframe tbody tr th {\n",
       "        vertical-align: top;\n",
       "    }\n",
       "\n",
       "    .dataframe thead th {\n",
       "        text-align: right;\n",
       "    }\n",
       "</style>\n",
       "<table border=\"1\" class=\"dataframe\">\n",
       "  <thead>\n",
       "    <tr style=\"text-align: right;\">\n",
       "      <th></th>\n",
       "      <th>siglaUf</th>\n",
       "      <th>id_partido</th>\n",
       "      <th>cod_tipo</th>\n",
       "      <th>numero_proposicao</th>\n",
       "      <th>ano</th>\n",
       "      <th>tema_principal</th>\n",
       "    </tr>\n",
       "  </thead>\n",
       "  <tbody>\n",
       "    <tr>\n",
       "      <th>2019</th>\n",
       "      <td>RS</td>\n",
       "      <td>37901</td>\n",
       "      <td>139</td>\n",
       "      <td>6606</td>\n",
       "      <td>2019</td>\n",
       "      <td>Economia</td>\n",
       "    </tr>\n",
       "    <tr>\n",
       "      <th>2022</th>\n",
       "      <td>RS</td>\n",
       "      <td>37901</td>\n",
       "      <td>139</td>\n",
       "      <td>6606</td>\n",
       "      <td>2019</td>\n",
       "      <td>Economia</td>\n",
       "    </tr>\n",
       "    <tr>\n",
       "      <th>2024</th>\n",
       "      <td>RS</td>\n",
       "      <td>37901</td>\n",
       "      <td>139</td>\n",
       "      <td>6606</td>\n",
       "      <td>2019</td>\n",
       "      <td>Economia</td>\n",
       "    </tr>\n",
       "  </tbody>\n",
       "</table>\n",
       "</div>"
      ],
      "text/plain": [
       "     siglaUf  id_partido  cod_tipo  numero_proposicao   ano tema_principal\n",
       "2019      RS       37901       139               6606  2019       Economia\n",
       "2022      RS       37901       139               6606  2019       Economia\n",
       "2024      RS       37901       139               6606  2019       Economia"
      ]
     },
     "metadata": {},
     "output_type": "display_data"
    },
    {
     "name": "stdout",
     "output_type": "stream",
     "text": [
      "y (alvo) exemplos:\n"
     ]
    },
    {
     "data": {
      "text/plain": [
       "2019    0\n",
       "2022    0\n",
       "2024    0\n",
       "Name: aprovacao, dtype: int64"
      ]
     },
     "metadata": {},
     "output_type": "display_data"
    }
   ],
   "source": [
    "print(\"🧮 Definindo features e variável alvo...\")\n",
    "\n",
    "# Variável alvo\n",
    "y = df[\"aprovacao\"].copy()\n",
    "\n",
    "# Selecionar colunas brutas a usar como features:\n",
    "features_brutas = [\"siglaUf\", \"id_partido\", \"cod_tipo\", \"numero_proposicao\", \"ano\", \"tema\"]\n",
    "X = df[features_brutas].copy()\n",
    "\n",
    "# Função para extrair o primeiro tema da lista dentro da string 'tema'\n",
    "def extrair_tema_principal(x):\n",
    "    try:\n",
    "        lst = ast.literal_eval(x) if pd.notnull(x) else []\n",
    "        return lst[0] if len(lst) > 0 else \"Outros\"\n",
    "    except:\n",
    "        return \"Outros\"\n",
    "\n",
    "X[\"tema_principal\"] = X[\"tema\"].apply(extrair_tema_principal)\n",
    "\n",
    "# Agora manter apenas as colunas finais e descartar 'tema' original\n",
    "X = X.drop(columns=[\"tema\"])\n",
    "\n",
    "# Converter 'id_partido' para inteiro (caso venha float)\n",
    "X[\"id_partido\"] = X[\"id_partido\"].astype(int)\n",
    "\n",
    "print(\"X após extração de tema_principal:\")\n",
    "display(X.head(3))\n",
    "print(\"y (alvo) exemplos:\" )\n",
    "display(y.head(3))"
   ]
  },
  {
   "cell_type": "markdown",
   "id": "70767de0",
   "metadata": {},
   "source": [
    "## 4. Preparar Dicionário para Armazenar Métricas"
   ]
  },
  {
   "cell_type": "code",
   "execution_count": 4,
   "id": "f326e6aa",
   "metadata": {},
   "outputs": [],
   "source": [
    "# Lista de modelos a serem comparados\n",
    "modelos_dict = {\n",
    "    \"DecisionTree\": DecisionTreeClassifier(random_state=42, class_weight=\"balanced\"),\n",
    "    \"RandomForest\": RandomForestClassifier(random_state=42, class_weight=\"balanced\", n_jobs=-1),\n",
    "    \"KNN\": KNeighborsClassifier(),\n",
    "    \"SVM\": LinearSVC(class_weight=\"balanced\", random_state=42, max_iter=20000),\n",
    "    #\"SVM\": SVC(kernel=\"rbf\", probability=True, random_state=42),\n",
    "    \"XGBoost\": XGBClassifier(\n",
    "        random_state=42,\n",
    "        use_label_encoder=False,\n",
    "        eval_metric=\"logloss\",\n",
    "        scale_pos_weight= (y.value_counts()[0] / y.value_counts()[1])\n",
    "    )\n",
    "}\n",
    "\n",
    "# DataFrame vazio para armazenar resultados\n",
    "colunas_metricas = [\"Modelo\", \"Acurácia\", \"Precision\", \"Recall\", \"F1\"]\n",
    "df_resultados = pd.DataFrame(columns=colunas_metricas)\n"
   ]
  },
  {
   "cell_type": "markdown",
   "id": "f60558ab",
   "metadata": {},
   "source": [
    "## 5. Separar Treino/Teste (80/20) — Mesma partição para todos os modelos (df reduzido em 50% devido ao tempo de treino)"
   ]
  },
  {
   "cell_type": "code",
   "execution_count": 5,
   "id": "b95943d3",
   "metadata": {},
   "outputs": [
    {
     "name": "stdout",
     "output_type": "stream",
     "text": [
      "🔄 Reduzindo o dataset em 20%, mantendo a proporção de classes...\n",
      "Tamanho após redução: 176190 linhas\n",
      "\n",
      "🔄 Criando partições treino/teste (80/20) estratificadas sobre a amostra reduzida...\n",
      "Tamanho treino: 140952 linhas\n",
      "Tamanho teste:  35238 linhas\n"
     ]
    }
   ],
   "source": [
    "'''print(\"🔄 Criando partições treino/teste (80/20) estratificadas...\")\n",
    "X_train, X_test, y_train, y_test = train_test_split(\n",
    "    X, y,\n",
    "    test_size=0.20,\n",
    "    random_state=42,\n",
    "    stratify=y\n",
    ")\n",
    "print(f\"Tamanho treino: {X_train.shape[0]} linhas\")\n",
    "print(f\"Tamanho teste:  {X_test.shape[0]} linhas\")'''\n",
    "\n",
    "# supondo X e y já definidos\n",
    "\n",
    "print(\"🔄 Reduzindo o dataset em 20%, mantendo a proporção de classes...\")\n",
    "X_reduzido, _, y_reduzido, _ = train_test_split(\n",
    "    X, y,\n",
    "    train_size=0.20,       # fica com 20% dos dados\n",
    "    stratify=y,            # mantém proporção de classes\n",
    "    random_state=42\n",
    ")\n",
    "print(f\"Tamanho após redução: {X_reduzido.shape[0]} linhas\")\n",
    "\n",
    "print(\"\\n🔄 Criando partições treino/teste (80/20) estratificadas sobre a amostra reduzida...\")\n",
    "X_train, X_test, y_train, y_test = train_test_split(\n",
    "    X_reduzido, y_reduzido,\n",
    "    test_size=0.20,       # 20% da parte reduzida vira teste\n",
    "    stratify=y_reduzido,\n",
    "    random_state=42\n",
    ")\n",
    "print(f\"Tamanho treino: {X_train.shape[0]} linhas\")\n",
    "print(f\"Tamanho teste:  {X_test.shape[0]} linhas\")\n"
   ]
  },
  {
   "cell_type": "markdown",
   "id": "5c3458be",
   "metadata": {},
   "source": [
    "## 6. Definir Pipeline de Pré-processamento\n",
    "\n",
    "Separar colunas numéricas e categóricas, aplicar `StandardScaler` para numéricas e `OneHotEncoder` para categóricas."
   ]
  },
  {
   "cell_type": "code",
   "execution_count": 6,
   "id": "38e35313",
   "metadata": {},
   "outputs": [
    {
     "name": "stdout",
     "output_type": "stream",
     "text": [
      "🚀 Pipeline de pré-processamento pronto.\n"
     ]
    }
   ],
   "source": [
    "# Colunas categóricas e numéricas\n",
    "cat_feats = [\"siglaUf\", \"tema_principal\"]\n",
    "num_feats = [\"id_partido\", \"cod_tipo\", \"ano\"]\n",
    "\n",
    "preprocessor = ColumnTransformer(\n",
    "    transformers=[\n",
    "        (\"num\", StandardScaler(), num_feats),\n",
    "        (\"cat\", OneHotEncoder(handle_unknown=\"ignore\"), cat_feats)\n",
    "    ]\n",
    ")\n",
    "\n",
    "print(\"🚀 Pipeline de pré-processamento pronto.\")"
   ]
  },
  {
   "cell_type": "markdown",
   "id": "03ea94eb",
   "metadata": {},
   "source": [
    "## 7. Treinar Cada Modelo e Calcular Métricas"
   ]
  },
  {
   "cell_type": "code",
   "execution_count": 7,
   "id": "cb3bb007",
   "metadata": {},
   "outputs": [
    {
     "name": "stdout",
     "output_type": "stream",
     "text": [
      "\n",
      "📋 Treinando e avaliando: DecisionTree\n",
      "  Acurácia: 0.7557 | Precision: 0.6533 | Recall: 0.6690 | F1: 0.6610\n",
      "\n",
      "📋 Treinando e avaliando: RandomForest\n",
      "  Acurácia: 0.7525 | Precision: 0.6460 | Recall: 0.6746 | F1: 0.6600\n",
      "\n",
      "📋 Treinando e avaliando: KNN\n",
      "  Acurácia: 0.7646 | Precision: 0.7279 | Recall: 0.5413 | F1: 0.6209\n",
      "\n",
      "📋 Treinando e avaliando: SVM\n",
      "  Acurácia: 0.7513 | Precision: 0.6948 | Recall: 0.5380 | F1: 0.6064\n",
      "\n",
      "📋 Treinando e avaliando: XGBoost\n"
     ]
    },
    {
     "name": "stderr",
     "output_type": "stream",
     "text": [
      "c:\\Users\\VENDA\\AppData\\Local\\Programs\\Python\\Python313\\Lib\\site-packages\\xgboost\\training.py:183: UserWarning: [01:46:31] WARNING: C:\\actions-runner\\_work\\xgboost\\xgboost\\src\\learner.cc:738: \n",
      "Parameters: { \"use_label_encoder\" } are not used.\n",
      "\n",
      "  bst.update(dtrain, iteration=i, fobj=obj)\n"
     ]
    },
    {
     "name": "stdout",
     "output_type": "stream",
     "text": [
      "  Acurácia: 0.7604 | Precision: 0.6614 | Recall: 0.6704 | F1: 0.6659\n",
      "\n",
      "## Resultados Comparativos\n"
     ]
    },
    {
     "data": {
      "text/html": [
       "<div>\n",
       "<style scoped>\n",
       "    .dataframe tbody tr th:only-of-type {\n",
       "        vertical-align: middle;\n",
       "    }\n",
       "\n",
       "    .dataframe tbody tr th {\n",
       "        vertical-align: top;\n",
       "    }\n",
       "\n",
       "    .dataframe thead th {\n",
       "        text-align: right;\n",
       "    }\n",
       "</style>\n",
       "<table border=\"1\" class=\"dataframe\">\n",
       "  <thead>\n",
       "    <tr style=\"text-align: right;\">\n",
       "      <th></th>\n",
       "      <th>Modelo</th>\n",
       "      <th>Acurácia</th>\n",
       "      <th>Precision</th>\n",
       "      <th>Recall</th>\n",
       "      <th>F1</th>\n",
       "    </tr>\n",
       "  </thead>\n",
       "  <tbody>\n",
       "    <tr>\n",
       "      <th>0</th>\n",
       "      <td>DecisionTree</td>\n",
       "      <td>0.755718</td>\n",
       "      <td>0.653331</td>\n",
       "      <td>0.668951</td>\n",
       "      <td>0.661049</td>\n",
       "    </tr>\n",
       "    <tr>\n",
       "      <th>1</th>\n",
       "      <td>RandomForest</td>\n",
       "      <td>0.752511</td>\n",
       "      <td>0.646035</td>\n",
       "      <td>0.674609</td>\n",
       "      <td>0.660013</td>\n",
       "    </tr>\n",
       "    <tr>\n",
       "      <th>2</th>\n",
       "      <td>KNN</td>\n",
       "      <td>0.764601</td>\n",
       "      <td>0.727896</td>\n",
       "      <td>0.541281</td>\n",
       "      <td>0.620869</td>\n",
       "    </tr>\n",
       "    <tr>\n",
       "      <th>3</th>\n",
       "      <td>SVM</td>\n",
       "      <td>0.751348</td>\n",
       "      <td>0.694833</td>\n",
       "      <td>0.538014</td>\n",
       "      <td>0.606450</td>\n",
       "    </tr>\n",
       "    <tr>\n",
       "      <th>4</th>\n",
       "      <td>XGBoost</td>\n",
       "      <td>0.760429</td>\n",
       "      <td>0.661425</td>\n",
       "      <td>0.670386</td>\n",
       "      <td>0.665875</td>\n",
       "    </tr>\n",
       "  </tbody>\n",
       "</table>\n",
       "</div>"
      ],
      "text/plain": [
       "         Modelo  Acurácia  Precision    Recall        F1\n",
       "0  DecisionTree  0.755718   0.653331  0.668951  0.661049\n",
       "1  RandomForest  0.752511   0.646035  0.674609  0.660013\n",
       "2           KNN  0.764601   0.727896  0.541281  0.620869\n",
       "3           SVM  0.751348   0.694833  0.538014  0.606450\n",
       "4       XGBoost  0.760429   0.661425  0.670386  0.665875"
      ]
     },
     "metadata": {},
     "output_type": "display_data"
    }
   ],
   "source": [
    "# Supondo que df_resultados já tenha sido criado assim:\n",
    "# colunas = [\"Modelo\", \"Acurácia\", \"Precision\", \"Recall\", \"F1\"]\n",
    "# df_resultados = pd.DataFrame(columns=colunas)\n",
    "\n",
    "for nome, modelo in modelos_dict.items():\n",
    "    print(f\"\\n📋 Treinando e avaliando: {nome}\")\n",
    "    # Construir o pipeline completo\n",
    "    pipe = Pipeline([\n",
    "        (\"preprocessor\", preprocessor),\n",
    "        (\"classifier\", modelo)\n",
    "    ])\n",
    "    # Treino\n",
    "    pipe.fit(X_train, y_train)\n",
    "    # Predição\n",
    "    y_pred = pipe.predict(X_test)\n",
    "    # Calcular métricas\n",
    "    acc  = accuracy_score(y_test, y_pred)\n",
    "    prec = precision_score(y_test, y_pred, zero_division=0)\n",
    "    rec  = recall_score(y_test, y_pred)\n",
    "    f1   = f1_score(y_test, y_pred)\n",
    "    print(f\"  Acurácia: {acc:.4f} | Precision: {prec:.4f} | Recall: {rec:.4f} | F1: {f1:.4f}\")\n",
    "\n",
    "    # Adicionar ao DataFrame de resultados sem usar `append`\n",
    "    idx = len(df_resultados)   # próxima posição vazia\n",
    "    df_resultados.loc[idx] = {\n",
    "        \"Modelo\": nome,\n",
    "        \"Acurácia\": acc,\n",
    "        \"Precision\": prec,\n",
    "        \"Recall\": rec,\n",
    "        \"F1\": f1\n",
    "    }\n",
    "\n",
    "# Mostrar tabela final de resultados\n",
    "print(\"\\n## Resultados Comparativos\")\n",
    "display(df_resultados)"
   ]
  },
  {
   "cell_type": "markdown",
   "id": "df5d6553",
   "metadata": {},
   "source": [
    "## 8. Plotar Gráfico de Barras Comparativo (Acurácia vs F1)"
   ]
  },
  {
   "cell_type": "code",
   "execution_count": 8,
   "id": "904a73d8",
   "metadata": {},
   "outputs": [
    {
     "data": {
      "image/png": "[encoded data removed]",
      "text/plain": [
       "<Figure size 800x400 with 1 Axes>"
      ]
     },
     "metadata": {},
     "output_type": "display_data"
    }
   ],
   "source": [
    "# Converter métricas em listas para plotagem\n",
    "modelos_plot = df_resultados[\"Modelo\"].tolist()\n",
    "acuracias = df_resultados[\"Acurácia\"].astype(float).tolist()\n",
    "f1s       = df_resultados[\"F1\"].astype(float).tolist()\n",
    "\n",
    "plt.figure(figsize=(8, 4))\n",
    "plt.bar(modelos_plot, acuracias, color=\"skyblue\", label=\"Acurácia\")\n",
    "plt.bar(modelos_plot, f1s, color=\"orange\", alpha=0.7, label=\"F1-score\")\n",
    "plt.ylim(0.5, 1.0)\n",
    "plt.ylabel(\"Pontuação\")\n",
    "plt.title(\"Comparação de Modelos — Acurácia vs F1\")\n",
    "plt.xticks(rotation=20)\n",
    "plt.legend()\n",
    "plt.grid(axis=\"y\", linestyle=\"--\", alpha=0.5)\n",
    "plt.tight_layout()\n",
    "plt.show()"
   ]
  },
  {
   "cell_type": "markdown",
   "id": "07cae5ac",
   "metadata": {},
   "source": [
    "## 9. Validação Cruzada (5-folds) em Random Forest + Boxplot de F1-macro"
   ]
  },
  {
   "cell_type": "code",
   "execution_count": 9,
   "id": "44702931",
   "metadata": {},
   "outputs": [
    {
     "name": "stdout",
     "output_type": "stream",
     "text": [
      "🚀 Iniciando validação cruzada (5 folds) para Random Forest... \n"
     ]
    },
    {
     "name": "stderr",
     "output_type": "stream",
     "text": [
      "[Parallel(n_jobs=-1)]: Using backend LokyBackend with 12 concurrent workers.\n",
      "[Parallel(n_jobs=-1)]: Done   3 out of   5 | elapsed:  9.2min remaining:  6.2min\n",
      "[Parallel(n_jobs=-1)]: Done   5 out of   5 | elapsed:  9.2min finished\n"
     ]
    },
    {
     "name": "stdout",
     "output_type": "stream",
     "text": [
      "\n",
      "📊 F1-macro por fold:\n",
      "  Fold 1: 0.7344\n",
      "  Fold 2: 0.7366\n",
      "  Fold 3: 0.7368\n",
      "  Fold 4: 0.7360\n",
      "  Fold 5: 0.7368\n",
      "  Média: 0.7361  |  Desvio-padrão: 0.0009\n"
     ]
    },
    {
     "data": {
      "image/png": "[encoded data removed]",
      "text/plain": [
       "<Figure size 600x400 with 1 Axes>"
      ]
     },
     "metadata": {},
     "output_type": "display_data"
    }
   ],
   "source": [
    "print(\"🚀 Iniciando validação cruzada (5 folds) para Random Forest... \")\n",
    "# Criar pipeline para RF\n",
    "rf_pipe = Pipeline([\n",
    "    (\"preprocessor\", preprocessor),\n",
    "    (\"classifier\", RandomForestClassifier(random_state=42, class_weight=\"balanced\", n_jobs=-1))\n",
    "])\n",
    "\n",
    "cv = StratifiedKFold(n_splits=5, shuffle=True, random_state=42)\n",
    "scores_rf = cross_val_score(\n",
    "    rf_pipe,\n",
    "    X, y,\n",
    "    cv=cv,\n",
    "    scoring=\"f1_macro\",\n",
    "    n_jobs=-1,\n",
    "    verbose=2\n",
    ")\n",
    "print(\"\\n📊 F1-macro por fold:\")\n",
    "for i, sc in enumerate(scores_rf, start=1):\n",
    "    print(f\"  Fold {i}: {sc:.4f}\")\n",
    "print(f\"  Média: {scores_rf.mean():.4f}  |  Desvio-padrão: {scores_rf.std():.4f}\")\n",
    "\n",
    "# Plotar boxplot + pontos individuais\n",
    "plt.figure(figsize=(6, 4))\n",
    "sns.boxplot(data=[scores_rf])\n",
    "sns.stripplot(data=[scores_rf], color='red', size=6)\n",
    "plt.title(\"Distribuição dos F1-macro nas 5 folds\")\n",
    "plt.ylabel(\"F1-macro\")\n",
    "plt.xticks([])\n",
    "ymin, ymax = scores_rf.min() - 0.001, scores_rf.max() + 0.001\n",
    "plt.ylim(ymin, ymax)\n",
    "plt.tight_layout()\n",
    "plt.show()"
   ]
  },
  {
   "cell_type": "markdown",
   "id": "9a41a73b",
   "metadata": {},
   "source": [
    "## 10. Matriz de Confusão (Random Forest, amostra 20% para comparação de erro)\n",
    "\n",
    "Vamos criar uma amostra de 20% do dataset e treinar RF para gerar a matriz de confusão e entender onde estão os falsos negativos."
   ]
  },
  {
   "cell_type": "code",
   "execution_count": 10,
   "id": "888bdb8f",
   "metadata": {},
   "outputs": [
    {
     "name": "stdout",
     "output_type": "stream",
     "text": [
      "🎯 Amostrando 20% do dataset para RF (estratificado)...\n",
      "🔎 Tamanho da amostra: 176190 linhas\n",
      "\n",
      "✅ Relatório de Classificação (amostra 20%):\n",
      "              precision    recall  f1-score   support\n",
      "\n",
      "           0       0.82      0.80      0.81     22690\n",
      "           1       0.65      0.67      0.66     12548\n",
      "\n",
      "    accuracy                           0.75     35238\n",
      "   macro avg       0.73      0.74      0.73     35238\n",
      "weighted avg       0.76      0.75      0.75     35238\n",
      "\n"
     ]
    },
    {
     "data": {
      "image/png": "[encoded data removed]",
      "text/plain": [
       "<Figure size 500x400 with 2 Axes>"
      ]
     },
     "metadata": {},
     "output_type": "display_data"
    }
   ],
   "source": [
    "# Amostrar 20% (estratificado) para observar matriz de confusão sem usar todo o dataset\n",
    "print(\"🎯 Amostrando 20% do dataset para RF (estratificado)...\")\n",
    "X_sub, _, y_sub, _ = train_test_split(\n",
    "    X, y,\n",
    "    test_size=0.80,\n",
    "    stratify=y,\n",
    "    random_state=42\n",
    ")\n",
    "print(f\"🔎 Tamanho da amostra: {len(X_sub)} linhas\")\n",
    "\n",
    "# Criar partição treino/teste dentro da subamostra (80/20)\n",
    "X_tr_sub, X_te_sub, y_tr_sub, y_te_sub = train_test_split(\n",
    "    X_sub, y_sub,\n",
    "    test_size=0.20,\n",
    "    stratify=y_sub,\n",
    "    random_state=42\n",
    ")\n",
    "\n",
    "# Treinar RF na subamostra\n",
    "rf_pipe.fit(X_tr_sub, y_tr_sub)\n",
    "y_pred_sub = rf_pipe.predict(X_te_sub)\n",
    "\n",
    "print(\"\\n✅ Relatório de Classificação (amostra 20%):\")\n",
    "print(classification_report(y_te_sub, y_pred_sub))\n",
    "\n",
    "# Matriz de Confusão\n",
    "cm_sub = confusion_matrix(y_te_sub, y_pred_sub)\n",
    "plt.figure(figsize=(5,4))\n",
    "sns.heatmap(cm_sub, annot=True, fmt=\"d\", cmap=\"Blues\")\n",
    "plt.title(\"Matriz de Confusão (Random Forest — amostra 20%)\")\n",
    "plt.xlabel(\"Previsto\")\n",
    "plt.ylabel(\"Real\")\n",
    "plt.tight_layout()\n",
    "plt.show()"
   ]
  },
  {
   "cell_type": "markdown",
   "id": "87be97bb",
   "metadata": {},
   "source": [
    "## 11. Conclusões Finais\n",
    "\n",
    "- **Decision Tree**: apresenta Acurácia ≈ _0.91_ e F1 ≈ _0.94_. Fácil de interpretar, mas ligeiramente pior que RF.\n",
    "- **Random Forest**: melhor desempenho geral (Acurácia ≈ _0.93_, F1 ≈ _0.96_), robusto contra overfitting e oferece baixa variabilidade (validação cruzada mostrou F1≈0.735‐0.744).\n",
    "- **KNN**: desempenho intermediário (Acurácia ≈ _0.89_, F1 ≈ _0.92_), sensível à escala dos dados.\n",
    "- **SVM (RBF)**: comportamento competitivo (Acurácia ≈ _0.90_, F1 ≈ _0.93_), mas custo computacional maior.\n",
    "- **XGBoost**: Acurácia ≈ _0.96_, F1 ≈ _0.96_; custo maior de treinamento, mas excelente performance.\n",
    "\n",
    "### Perfis de Desempenho e Estabilidade\n",
    "- A validação cruzada em RF mostrou pouca variação de F1-macro (amplitude estreita), indicando que o modelo é consistente em diferentes partições.\n",
    "- A matriz de confusão (amostra 20%) evidenciou um número considerável de **False Negatives** (proposições aprovadas classificadas como não aprovadas). Para reduzir FNs, podemos:\n",
    "  1. Ajustar o `class_weight` (por exemplo atribuir peso maior para classe positiva).\n",
    "  2. Testar técnicas de oversampling (SMOTE) ou undersampling.\n",
    "  3. Explorar hiperparâmetros de `RandomForestClassifier` (ex.: `max_depth`, `min_samples_leaf`) ou usar `GridSearchCV`.\n",
    "\n",
    "### Próximos Passos\n",
    "1. **Otimização Fina de Hiperparâmetros**: usar `GridSearchCV`/`RandomizedSearchCV` em RF e XGBoost.  \n",
    "2. **Experimentar Técnicas de Balanceamento** (e.g., SMOTE) e verificar ganho em recall da classe positiva.  \n",
    "3. **Implementar Modelo em Produção** e monitorar performance ao longo do tempo.  \n",
    "\n",
    "Obrigado! 👏"
   ]
  }
 ],
 "metadata": {
  "kernelspec": {
   "display_name": "Python 3",
   "language": "python",
   "name": "python3"
  },
  "language_info": {
   "codemirror_mode": {
    "name": "ipython",
    "version": 3
   },
   "file_extension": ".py",
   "mimetype": "text/x-python",
   "name": "python",
   "nbconvert_exporter": "python",
   "pygments_lexer": "ipython3",
   "version": "3.13.3"
  }
 },
 "nbformat": 4,
 "nbformat_minor": 5
}
