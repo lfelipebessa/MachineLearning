{
 "cells": [
  {
   "cell_type": "code",
   "execution_count": 1,
   "id": "d3e98a88",
   "metadata": {},
   "outputs": [],
   "source": [
    "from sklearn.ensemble import RandomForestClassifier\n",
    "\n",
    "rf = RandomForestClassifier(\n",
    "    n_estimators=100,\n",
    "    max_depth=20,\n",
    "    max_samples=0.8,\n",
    "    class_weight=\"balanced\",\n",
    "    n_jobs=-1,\n",
    "    random_state=42\n",
    ")\n"
   ]
  },
  {
   "cell_type": "markdown",
   "id": "bf625012",
   "metadata": {},
   "source": [
    "## 1. Setup"
   ]
  },
  {
   "cell_type": "code",
   "execution_count": 2,
   "id": "6677d044",
   "metadata": {},
   "outputs": [],
   "source": [
    "# 1. Bibliotecas básicas\n",
    "import os\n",
    "import pandas as pd\n",
    "import numpy as np\n",
    "import ast\n",
    "import pickle            # para salvar o modelo\n",
    "from datetime import datetime\n",
    "\n",
    "# 2. Sklearn — split, pré-processamento, modelo e métricas\n",
    "from sklearn.model_selection import train_test_split, StratifiedKFold, cross_val_score\n",
    "from sklearn.compose import ColumnTransformer\n",
    "from sklearn.preprocessing import OneHotEncoder, StandardScaler\n",
    "from sklearn.pipeline import Pipeline\n",
    "from sklearn.ensemble import RandomForestClassifier\n",
    "from sklearn.metrics import classification_report, confusion_matrix\n",
    "\n",
    "# 3. Visualização\n",
    "import matplotlib.pyplot as plt\n",
    "import seaborn as sns\n",
    "\n",
    "# 4. Semente para reprodutibilidade\n",
    "SEED = 42\n"
   ]
  },
  {
   "cell_type": "markdown",
   "id": "7e8e4e54",
   "metadata": {},
   "source": [
    "## 2. Carregando CSV"
   ]
  },
  {
   "cell_type": "code",
   "execution_count": 3,
   "id": "fbc84243",
   "metadata": {},
   "outputs": [],
   "source": [
    "# ajuste o caminho conforme seu projeto\n",
    "DATA_PATH = \"dados/df_consolidado.csv\"  \n",
    "df = pd.read_csv(DATA_PATH, low_memory=False)\n",
    "\n",
    "# descartar linhas incompletas\n",
    "col_essenciais = [\n",
    "    \"id_votacao\",\"id_deputado\",\"tipoVoto\",\"siglaUf\",\"id_partido\",\n",
    "    \"id_proposicao\",\"data\",\"sigla_orgao\",\"aprovacao\",\"cod_tipo\",\n",
    "    \"numero_proposicao\",\"ano\",\"orientacao\",\"id_autor\",\"tema\"\n",
    "]\n",
    "df.dropna(subset=col_essenciais, inplace=True)\n",
    "\n",
    "# converter votos para binário\n",
    "df[\"tipoVoto\"] = df[\"tipoVoto\"].map({\"Sim\":1, \"Não\":0}).fillna(0).astype(int)\n"
   ]
  },
  {
   "cell_type": "markdown",
   "id": "ee282ff8",
   "metadata": {},
   "source": [
    "## 3. Definição de X e y"
   ]
  },
  {
   "cell_type": "code",
   "execution_count": 4,
   "id": "f8412475",
   "metadata": {},
   "outputs": [],
   "source": [
    "# alvo: se a proposição foi aprovada (1) ou não (0)\n",
    "y = df[\"aprovacao\"].astype(int)\n",
    "\n",
    "# features brutas\n",
    "X = df[[\"siglaUf\",\"id_partido\",\"cod_tipo\",\"ano\",\"tema\"]].copy()\n",
    "\n",
    "# extrair só o primeiro tema\n",
    "def extrai_tema(x):\n",
    "    try:\n",
    "        lst = ast.literal_eval(x)\n",
    "        return lst[0] if lst else \"Outros\"\n",
    "    except:\n",
    "        return \"Outros\"\n",
    "\n",
    "X[\"tema_principal\"] = X[\"tema\"].apply(extrai_tema)\n",
    "X.drop(columns=\"tema\", inplace=True)\n"
   ]
  },
  {
   "cell_type": "markdown",
   "id": "5f883b86",
   "metadata": {},
   "source": [
    "## 4. Pré Processamento"
   ]
  },
  {
   "cell_type": "code",
   "execution_count": 5,
   "id": "da30c2ff",
   "metadata": {},
   "outputs": [],
   "source": [
    "categorical_features = [\"siglaUf\", \"tema_principal\"]\n",
    "numeric_features     = [\"id_partido\", \"cod_tipo\", \"ano\"]\n",
    "\n",
    "preprocessor = ColumnTransformer([\n",
    "    (\"num\", StandardScaler(),       numeric_features),\n",
    "    (\"cat\", OneHotEncoder(handle_unknown=\"ignore\"), categorical_features),\n",
    "])\n"
   ]
  },
  {
   "cell_type": "markdown",
   "id": "3a1e19d3",
   "metadata": {},
   "source": [
    "## 5. Split treino / teste"
   ]
  },
  {
   "cell_type": "code",
   "execution_count": 6,
   "id": "144702c1",
   "metadata": {},
   "outputs": [
    {
     "name": "stdout",
     "output_type": "stream",
     "text": [
      "Treino: (704761, 5) Teste: (176191, 5)\n"
     ]
    }
   ],
   "source": [
    "X_train, X_test, y_train, y_test = train_test_split(\n",
    "    X, y,\n",
    "    test_size=0.20,\n",
    "    stratify=y,\n",
    "    random_state=SEED\n",
    ")\n",
    "print(\"Treino:\", X_train.shape, \"Teste:\", X_test.shape)\n"
   ]
  },
  {
   "cell_type": "markdown",
   "id": "5b312694",
   "metadata": {},
   "source": [
    "## 6. Cross-validation rápida (5 folds)"
   ]
  },
  {
   "cell_type": "code",
   "execution_count": 7,
   "id": "5d9e004d",
   "metadata": {},
   "outputs": [
    {
     "name": "stdout",
     "output_type": "stream",
     "text": [
      "F1-macro CV por fold: [0.7433 0.7412 0.7431 0.7407 0.7408]\n",
      "→ Média: 0.7418 | Desvio: 0.0012\n"
     ]
    }
   ],
   "source": [
    "model = RandomForestClassifier(\n",
    "    n_estimators=100,\n",
    "    max_depth=20,\n",
    "    class_weight=\"balanced\",\n",
    "    n_jobs=-1,\n",
    "    random_state=SEED\n",
    ")\n",
    "\n",
    "pipe = Pipeline([\n",
    "    (\"preproc\", preprocessor),\n",
    "    (\"rf\",      model)\n",
    "])\n",
    "\n",
    "cv = StratifiedKFold(n_splits=5, shuffle=True, random_state=SEED)\n",
    "scores = cross_val_score(pipe, X_train, y_train, cv=cv, scoring=\"f1_macro\", n_jobs=-1)\n",
    "print(\"F1-macro CV por fold:\", np.round(scores,4))\n",
    "print(\"→ Média:\", scores.mean().round(4), \"| Desvio:\", scores.std().round(4))\n"
   ]
  },
  {
   "cell_type": "markdown",
   "id": "bcc611c2",
   "metadata": {},
   "source": [
    "## 7. Treino final e avaliação no hold-out"
   ]
  },
  {
   "cell_type": "code",
   "execution_count": 8,
   "id": "44654172",
   "metadata": {},
   "outputs": [
    {
     "name": "stdout",
     "output_type": "stream",
     "text": [
      "              precision    recall  f1-score   support\n",
      "\n",
      "           0       0.81      0.84      0.82    113452\n",
      "           1       0.69      0.64      0.66     62739\n",
      "\n",
      "    accuracy                           0.77    176191\n",
      "   macro avg       0.75      0.74      0.74    176191\n",
      "weighted avg       0.76      0.77      0.77    176191\n",
      "\n"
     ]
    },
    {
     "data": {
      "image/png": "[encoded data removed]",
      "text/plain": [
       "<Figure size 640x480 with 2 Axes>"
      ]
     },
     "metadata": {},
     "output_type": "display_data"
    }
   ],
   "source": [
    "# ajusta no treino completo\n",
    "pipe.fit(X_train, y_train)\n",
    "\n",
    "# previsão e relatório\n",
    "y_pred = pipe.predict(X_test)\n",
    "print(classification_report(y_test, y_pred))\n",
    "\n",
    "# matriz de confusão\n",
    "cm = confusion_matrix(y_test, y_pred)\n",
    "sns.heatmap(cm, annot=True, fmt=\"d\", cmap=\"Blues\")\n",
    "plt.title(\"Matriz de Confusão\")\n",
    "plt.xlabel(\"Previsto\")\n",
    "plt.ylabel(\"Real\")\n",
    "plt.tight_layout()\n",
    "plt.show()\n"
   ]
  },
  {
   "cell_type": "markdown",
   "id": "9e1402c7",
   "metadata": {},
   "source": [
    "## 8. Salvando o modelo em .pkl"
   ]
  },
  {
   "cell_type": "code",
   "execution_count": 9,
   "id": "13f2d74a",
   "metadata": {},
   "outputs": [
    {
     "name": "stdout",
     "output_type": "stream",
     "text": [
      "Modelo salvo em: modelo_random_forest_20250630_1632.pkl\n"
     ]
    }
   ],
   "source": [
    "timestamp = datetime.now().strftime(\"%Y%m%d_%H%M\")\n",
    "out_path = f\"modelo_random_forest_{timestamp}.pkl\"\n",
    "\n",
    "with open(out_path, \"wb\") as f:\n",
    "    pickle.dump(pipe, f)\n",
    "\n",
    "print(\"Modelo salvo em:\", out_path)\n"
   ]
  }
 ],
 "metadata": {
  "kernelspec": {
   "display_name": "Python 3",
   "language": "python",
   "name": "python3"
  },
  "language_info": {
   "codemirror_mode": {
    "name": "ipython",
    "version": 3
   },
   "file_extension": ".py",
   "mimetype": "text/x-python",
   "name": "python",
   "nbconvert_exporter": "python",
   "pygments_lexer": "ipython3",
   "version": "3.13.3"
  }
 },
 "nbformat": 4,
 "nbformat_minor": 5
}
