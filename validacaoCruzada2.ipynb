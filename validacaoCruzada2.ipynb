{
 "cells": [
  {
   "cell_type": "markdown",
   "id": "a51633e8",
   "metadata": {},
   "source": [
    "# Validação Cruzada em Amostra (20%) com RandomForest e SMOTE\n",
    "\n",
    "Objetivo: Amostrar 20% do dataset consolidado e executar validação cruzada em RandomForest, além de testar SMOTE para balanceamento."
   ]
  },
  {
   "cell_type": "code",
   "execution_count": 1,
   "id": "c268e346",
   "metadata": {},
   "outputs": [],
   "source": [
    "# 1. Importar bibliotecas\n",
    "import pandas as pd\n",
    "import numpy as np\n",
    "import ast\n",
    "import os\n",
    "from sklearn.model_selection import train_test_split, StratifiedKFold, cross_val_score\n",
    "from sklearn.ensemble import RandomForestClassifier\n",
    "from sklearn.preprocessing import OneHotEncoder, StandardScaler\n",
    "from sklearn.compose import ColumnTransformer\n",
    "from sklearn.pipeline import Pipeline\n",
    "from sklearn.metrics import classification_report, confusion_matrix, precision_score, recall_score, f1_score\n",
    "import seaborn as sns\n",
    "import matplotlib.pyplot as plt\n",
    "from imblearn.over_sampling import SMOTE\n",
    "from imblearn.pipeline import Pipeline as ImbPipeline\n"
   ]
  },
  {
   "cell_type": "markdown",
   "id": "7066a532",
   "metadata": {},
   "source": [
    "## 2. Configurar caminhos e carregar dados"
   ]
  },
  {
   "cell_type": "code",
   "execution_count": 2,
   "id": "291fb64b",
   "metadata": {},
   "outputs": [
    {
     "name": "stdout",
     "output_type": "stream",
     "text": [
      "🔄 Dataset carregado, total de registros: 3126323\n"
     ]
    }
   ],
   "source": [
    "# Ajuste conforme sua estrutura de diretórios\n",
    "BASE_DIR = os.getcwd()\n",
    "csv_path = os.path.join(BASE_DIR, \"dados\", \"df_consolidado.csv\")\n",
    "df_full = pd.read_csv(csv_path, low_memory=False)\n",
    "print(\"🔄 Dataset carregado, total de registros:\", len(df_full))"
   ]
  },
  {
   "cell_type": "markdown",
   "id": "5eed4968",
   "metadata": {},
   "source": [
    "## 3. Limpar dados essenciais"
   ]
  },
  {
   "cell_type": "code",
   "execution_count": 3,
   "id": "93f767cc",
   "metadata": {},
   "outputs": [
    {
     "name": "stdout",
     "output_type": "stream",
     "text": [
      "📋 Removendo linhas com valores ausentes em colunas essenciais...\n",
      " Registros após limpeza: 880952\n"
     ]
    }
   ],
   "source": [
    "print(\"📋 Removendo linhas com valores ausentes em colunas essenciais...\")\n",
    "colunas_para_remover_nan = [\n",
    "    \"id_votacao\", \"id_deputado\", \"tipoVoto\", \"siglaUf\", \"id_partido\",\n",
    "    \"id_proposicao\", \"data\", \"sigla_orgao\", \"aprovacao\", \"cod_tipo\",\n",
    "    \"numero_proposicao\", \"ano\", \"orientacao\", \"id_autor\", \"tema\"\n",
    "]\n",
    "df_full = df_full.dropna(subset=colunas_para_remover_nan)\n",
    "print(\" Registros após limpeza:\", len(df_full))"
   ]
  },
  {
   "cell_type": "markdown",
   "id": "ea8733ce",
   "metadata": {},
   "source": [
    "## 4. Converter `tipoVoto` e definir `X_full`, `y_full`"
   ]
  },
  {
   "cell_type": "code",
   "execution_count": 4,
   "id": "c7ab7e76",
   "metadata": {},
   "outputs": [
    {
     "name": "stdout",
     "output_type": "stream",
     "text": [
      "🔢 Convertendo 'tipoVoto' para binário...\n",
      "🧮 Definindo features e alvo...\n",
      " Features finais: ['siglaUf', 'id_partido', 'cod_tipo', 'ano', 'tema_principal']\n"
     ]
    }
   ],
   "source": [
    "print(\"🔢 Convertendo 'tipoVoto' para binário...\")\n",
    "df_full[\"tipoVoto\"] = df_full[\"tipoVoto\"].map({\"Sim\": 1, \"Não\": 0}).fillna(0)\n",
    "\n",
    "print(\"🧮 Definindo features e alvo...\")\n",
    "y_full = df_full[\"aprovacao\"].astype(int)\n",
    "\n",
    "# Selecionar colunas brutas\n",
    "features = [\"siglaUf\", \"id_partido\", \"cod_tipo\", \"numero_proposicao\", \"ano\", \"tema\"]\n",
    "X_full = df_full[features].copy()\n",
    "\n",
    "# Extrair tema_principal\n",
    "def extrair_tema_principal(x):\n",
    "    try:\n",
    "        lst = ast.literal_eval(x) if pd.notnull(x) else []\n",
    "        return lst[0] if len(lst) > 0 else \"Outros\"\n",
    "    except:\n",
    "        return \"Outros\"\n",
    "\n",
    "X_full[\"tema_principal\"] = X_full[\"tema\"].apply(extrair_tema_principal)\n",
    "\n",
    "# Manter colunas finais e converter id_partido para int\n",
    "X_full = X_full[[\"siglaUf\", \"id_partido\", \"cod_tipo\", \"ano\", \"tema_principal\"]]\n",
    "X_full[\"id_partido\"] = X_full[\"id_partido\"].astype(int)\n",
    "\n",
    "print(\" Features finais:\", X_full.columns.tolist())"
   ]
  },
  {
   "cell_type": "markdown",
   "id": "2138bce0",
   "metadata": {},
   "source": [
    "## 5. Amostrar 20% dos dados (estratificado)"
   ]
  },
  {
   "cell_type": "code",
   "execution_count": 5,
   "id": "c91a8aec",
   "metadata": {},
   "outputs": [
    {
     "name": "stdout",
     "output_type": "stream",
     "text": [
      "🎯 Amostrando 20% dos dados, mantendo proporcionalidade de classes...\n",
      "🔎 Tamanho da amostra: 176190 registros\n"
     ]
    }
   ],
   "source": [
    "print(\"🎯 Amostrando 20% dos dados, mantendo proporcionalidade de classes...\")\n",
    "X_sub, _, y_sub, _ = train_test_split(\n",
    "    X_full, y_full, test_size=0.80, stratify=y_full, random_state=42\n",
    ")\n",
    "print(f\"🔎 Tamanho da amostra: {len(X_sub)} registros\")"
   ]
  },
  {
   "cell_type": "markdown",
   "id": "56894995",
   "metadata": {},
   "source": [
    "## 6. Pré-processamento dos features"
   ]
  },
  {
   "cell_type": "code",
   "execution_count": 6,
   "id": "570c6120",
   "metadata": {},
   "outputs": [
    {
     "name": "stdout",
     "output_type": "stream",
     "text": [
      "⚙️ Configurando pipeline de pré-processamento...\n"
     ]
    }
   ],
   "source": [
    "print(\"⚙️ Configurando pipeline de pré-processamento...\")\n",
    "categorical_features = [\"siglaUf\", \"tema_principal\"]\n",
    "numeric_features = [\"id_partido\", \"cod_tipo\", \"ano\"]\n",
    "\n",
    "preprocessor = ColumnTransformer(\n",
    "    transformers=[\n",
    "        (\"num\", StandardScaler(), numeric_features),\n",
    "        (\"cat\", OneHotEncoder(handle_unknown=\"ignore\"), categorical_features),\n",
    "    ]\n",
    ")"
   ]
  },
  {
   "cell_type": "markdown",
   "id": "614ca555",
   "metadata": {},
   "source": [
    "## 7. Validação Cruzada (5 folds) com RandomForest"
   ]
  },
  {
   "cell_type": "code",
   "execution_count": 7,
   "id": "53b92a9e",
   "metadata": {},
   "outputs": [
    {
     "name": "stdout",
     "output_type": "stream",
     "text": [
      "🚀 Iniciando validação cruzada (5 folds) em RandomForest...\n"
     ]
    },
    {
     "name": "stderr",
     "output_type": "stream",
     "text": [
      "[Parallel(n_jobs=-1)]: Using backend LokyBackend with 8 concurrent workers.\n"
     ]
    },
    {
     "name": "stdout",
     "output_type": "stream",
     "text": [
      "[CV] END .................................................... total time=  27.9s\n",
      "[CV] END .................................................... total time=  28.1s\n",
      "[CV] END .................................................... total time=  28.4s\n"
     ]
    },
    {
     "name": "stderr",
     "output_type": "stream",
     "text": [
      "[Parallel(n_jobs=-1)]: Done   2 out of   5 | elapsed:   30.0s remaining:   45.0s\n",
      "[Parallel(n_jobs=-1)]: Done   5 out of   5 | elapsed:   30.2s finished\n"
     ]
    },
    {
     "name": "stdout",
     "output_type": "stream",
     "text": [
      "[CV] END .................................................... total time=  28.4s\n",
      "[CV] END .................................................... total time=  28.1s\n",
      "\n",
      "📊 Resultados F1-macro por fold:\n",
      "  Fold 1: 0.7346\n",
      "  Fold 2: 0.7354\n",
      "  Fold 3: 0.7356\n",
      "  Fold 4: 0.7361\n",
      "  Fold 5: 0.7347\n",
      "  Média: 0.7353  |  Desvio: 0.0006\n"
     ]
    }
   ],
   "source": [
    "print(\"🚀 Iniciando validação cruzada (5 folds) em RandomForest...\")\n",
    "model = RandomForestClassifier(random_state=42, n_jobs=-1)\n",
    "\n",
    "pipeline = Pipeline(\n",
    "    steps=[\n",
    "        (\"preprocessor\", preprocessor),\n",
    "        (\"classifier\", model),\n",
    "    ]\n",
    ")\n",
    "\n",
    "cv = StratifiedKFold(n_splits=5, shuffle=True, random_state=42)\n",
    "\n",
    "# Calcula F1-macro em cada fold\n",
    "scores = cross_val_score(\n",
    "    pipeline, X_sub, y_sub,\n",
    "    cv=cv, scoring=\"f1_macro\", n_jobs=-1, verbose=2\n",
    ")\n",
    "print(\"\\n📊 Resultados F1-macro por fold:\")\n",
    "for i, score in enumerate(scores, start=1):\n",
    "    print(f\"  Fold {i}: {score:.4f}\")\n",
    "print(f\"  Média: {scores.mean():.4f}  |  Desvio: {scores.std():.4f}\")"
   ]
  },
  {
   "cell_type": "markdown",
   "id": "2c4f6ce0",
   "metadata": {},
   "source": [
    "## 8. Treino/Teste e Matriz de Confusão"
   ]
  },
  {
   "cell_type": "code",
   "execution_count": 8,
   "id": "761f7ce6",
   "metadata": {},
   "outputs": [
    {
     "name": "stdout",
     "output_type": "stream",
     "text": [
      "\n",
      "🔍 Treinando modelo em treino/teste e gerando matriz de confusão...\n",
      "\n",
      "✅ Relatório de Classificação (amostra 20%):\n",
      "              precision    recall  f1-score   support\n",
      "\n",
      "           0       0.77      0.96      0.85     22690\n",
      "           1       0.86      0.48      0.62     12548\n",
      "\n",
      "    accuracy                           0.79     35238\n",
      "   macro avg       0.82      0.72      0.74     35238\n",
      "weighted avg       0.80      0.79      0.77     35238\n",
      "\n",
      "\n",
      "🔲 Matriz de Confusão:\n"
     ]
    },
    {
     "data": {
      "image/png": "[encoded data removed]",
      "text/plain": [
       "<Figure size 500x400 with 2 Axes>"
      ]
     },
     "metadata": {},
     "output_type": "display_data"
    }
   ],
   "source": [
    "print(\"\\n🔍 Treinando modelo em treino/teste e gerando matriz de confusão...\")\n",
    "X_train, X_test, y_train, y_test = train_test_split(\n",
    "    X_sub, y_sub, stratify=y_sub, test_size=0.20, random_state=42\n",
    ")\n",
    "\n",
    "pipeline.fit(X_train, y_train)\n",
    "y_pred = pipeline.predict(X_test)\n",
    "\n",
    "print(\"\\n✅ Relatório de Classificação (amostra 20%):\")\n",
    "print(classification_report(y_test, y_pred))\n",
    "\n",
    "print(\"\\n🔲 Matriz de Confusão:\")\n",
    "cm = confusion_matrix(y_test, y_pred)\n",
    "plt.figure(figsize=(5, 4))\n",
    "sns.heatmap(cm, annot=True, fmt=\"d\", cmap=\"Blues\")\n",
    "plt.title(\"Matriz de Confusão (amostra 20%)\")\n",
    "plt.xlabel(\"Previsto\")\n",
    "plt.ylabel(\"Real\")\n",
    "plt.tight_layout()\n",
    "plt.show()"
   ]
  },
  {
   "cell_type": "markdown",
   "id": "affb778c",
   "metadata": {},
   "source": [
    "## 9. Boxplot de F1-macro nas 5 folds"
   ]
  },
  {
   "cell_type": "code",
   "execution_count": 9,
   "id": "dc98d173",
   "metadata": {},
   "outputs": [
    {
     "name": "stdout",
     "output_type": "stream",
     "text": [
      "📈 Gerando boxplot final dos F1-macro nas folds...\n"
     ]
    },
    {
     "data": {
      "image/png": "[encoded data removed]",
      "text/plain": [
       "<Figure size 600x400 with 1 Axes>"
      ]
     },
     "metadata": {},
     "output_type": "display_data"
    }
   ],
   "source": [
    "print(\"📈 Gerando boxplot final dos F1-macro nas folds...\")\n",
    "plt.figure(figsize=(6, 4))\n",
    "sns.boxplot(data=[scores])\n",
    "plt.title(\"Distribuição dos F1-macro nas 5 folds (amostra 20%)\")\n",
    "plt.ylabel(\"F1-macro\")\n",
    "plt.xticks([])\n",
    "plt.tight_layout()\n",
    "plt.show()"
   ]
  },
  {
   "cell_type": "markdown",
   "id": "779008d2",
   "metadata": {},
   "source": [
    "## 10. Teste com SMOTE (Oversampling da Classe Positiva)"
   ]
  },
  {
   "cell_type": "code",
   "execution_count": 10,
   "id": "ae875ea8",
   "metadata": {},
   "outputs": [
    {
     "name": "stdout",
     "output_type": "stream",
     "text": [
      "\n",
      "🧪 TENTATIVA COM SMOTE (oversampling da classe 1)...\n"
     ]
    },
    {
     "name": "stderr",
     "output_type": "stream",
     "text": [
      "[Parallel(n_jobs=-1)]: Using backend LokyBackend with 8 concurrent workers.\n"
     ]
    },
    {
     "name": "stdout",
     "output_type": "stream",
     "text": [
      "[CV] END .................................................... total time=   0.0s\n",
      "[CV] END .................................................... total time=   0.0s\n",
      "[CV] END .................................................... total time=   0.0s\n"
     ]
    },
    {
     "name": "stderr",
     "output_type": "stream",
     "text": [
      "[Parallel(n_jobs=-1)]: Done   2 out of   5 | elapsed:    0.7s remaining:    1.1s\n"
     ]
    },
    {
     "name": "stdout",
     "output_type": "stream",
     "text": [
      "[CV] END .................................................... total time=   0.0s\n",
      "[CV] END .................................................... total time=   0.0s\n"
     ]
    },
    {
     "name": "stderr",
     "output_type": "stream",
     "text": [
      "[Parallel(n_jobs=-1)]: Done   5 out of   5 | elapsed:    1.8s finished\n"
     ]
    },
    {
     "ename": "ValueError",
     "evalue": "\nAll the 5 fits failed.\nIt is very likely that your model is misconfigured.\nYou can try to debug the error by setting error_score='raise'.\n\nBelow are more details about the failures:\n--------------------------------------------------------------------------------\n4 fits failed with the following error:\nTraceback (most recent call last):\n  File \"/Users/luizfelipebessa/Documents/Faculdade/ML/CdD-ML/venv/lib/python3.11/site-packages/sklearn/model_selection/_validation.py\", line 866, in _fit_and_score\n    estimator.fit(X_train, y_train, **fit_params)\n  File \"/Users/luizfelipebessa/Documents/Faculdade/ML/CdD-ML/venv/lib/python3.11/site-packages/sklearn/base.py\", line 1389, in wrapper\n    return fit_method(estimator, *args, **kwargs)\n           ^^^^^^^^^^^^^^^^^^^^^^^^^^^^^^^^^^^^^^\n  File \"/Users/luizfelipebessa/Documents/Faculdade/ML/CdD-ML/venv/lib/python3.11/site-packages/imblearn/pipeline.py\", line 518, in fit\n    Xt, yt = self._fit(X, y, routed_params, raw_params=params)\n             ^^^^^^^^^^^^^^^^^^^^^^^^^^^^^^^^^^^^^^^^^^^^^^^^^\n  File \"/Users/luizfelipebessa/Documents/Faculdade/ML/CdD-ML/venv/lib/python3.11/site-packages/imblearn/pipeline.py\", line 440, in _fit\n    X, y, fitted_transformer = fit_resample_one_cached(\n                               ^^^^^^^^^^^^^^^^^^^^^^^^\n  File \"/Users/luizfelipebessa/Documents/Faculdade/ML/CdD-ML/venv/lib/python3.11/site-packages/joblib/memory.py\", line 326, in __call__\n    return self.func(*args, **kwargs)\n           ^^^^^^^^^^^^^^^^^^^^^^^^^^\n  File \"/Users/luizfelipebessa/Documents/Faculdade/ML/CdD-ML/venv/lib/python3.11/site-packages/imblearn/pipeline.py\", line 1336, in _fit_resample_one\n    X_res, y_res = sampler.fit_resample(X, y, **params.get(\"fit_resample\", {}))\n                   ^^^^^^^^^^^^^^^^^^^^^^^^^^^^^^^^^^^^^^^^^^^^^^^^^^^^^^^^^^^^\n  File \"/Users/luizfelipebessa/Documents/Faculdade/ML/CdD-ML/venv/lib/python3.11/site-packages/imblearn/base.py\", line 202, in fit_resample\n    return super().fit_resample(X, y, **params)\n           ^^^^^^^^^^^^^^^^^^^^^^^^^^^^^^^^^^^^\n  File \"/Users/luizfelipebessa/Documents/Faculdade/ML/CdD-ML/venv/lib/python3.11/site-packages/sklearn/base.py\", line 1389, in wrapper\n    return fit_method(estimator, *args, **kwargs)\n           ^^^^^^^^^^^^^^^^^^^^^^^^^^^^^^^^^^^^^^\n  File \"/Users/luizfelipebessa/Documents/Faculdade/ML/CdD-ML/venv/lib/python3.11/site-packages/imblearn/base.py\", line 99, in fit_resample\n    X, y, binarize_y = self._check_X_y(X, y)\n                       ^^^^^^^^^^^^^^^^^^^^^\n  File \"/Users/luizfelipebessa/Documents/Faculdade/ML/CdD-ML/venv/lib/python3.11/site-packages/imblearn/base.py\", line 157, in _check_X_y\n    X, y = validate_data(self, X=X, y=y, reset=True, accept_sparse=accept_sparse)\n           ^^^^^^^^^^^^^^^^^^^^^^^^^^^^^^^^^^^^^^^^^^^^^^^^^^^^^^^^^^^^^^^^^^^^^^\n  File \"/Users/luizfelipebessa/Documents/Faculdade/ML/CdD-ML/venv/lib/python3.11/site-packages/sklearn/utils/validation.py\", line 2961, in validate_data\n    X, y = check_X_y(X, y, **check_params)\n           ^^^^^^^^^^^^^^^^^^^^^^^^^^^^^^^\n  File \"/Users/luizfelipebessa/Documents/Faculdade/ML/CdD-ML/venv/lib/python3.11/site-packages/sklearn/utils/validation.py\", line 1370, in check_X_y\n    X = check_array(\n        ^^^^^^^^^^^^\n  File \"/Users/luizfelipebessa/Documents/Faculdade/ML/CdD-ML/venv/lib/python3.11/site-packages/sklearn/utils/validation.py\", line 1055, in check_array\n    array = _asarray_with_order(array, order=order, dtype=dtype, xp=xp)\n            ^^^^^^^^^^^^^^^^^^^^^^^^^^^^^^^^^^^^^^^^^^^^^^^^^^^^^^^^^^^\n  File \"/Users/luizfelipebessa/Documents/Faculdade/ML/CdD-ML/venv/lib/python3.11/site-packages/sklearn/utils/_array_api.py\", line 839, in _asarray_with_order\n    array = numpy.asarray(array, order=order, dtype=dtype)\n            ^^^^^^^^^^^^^^^^^^^^^^^^^^^^^^^^^^^^^^^^^^^^^^\n  File \"/Users/luizfelipebessa/Documents/Faculdade/ML/CdD-ML/venv/lib/python3.11/site-packages/pandas/core/generic.py\", line 2153, in __array__\n    arr = np.asarray(values, dtype=dtype)\n          ^^^^^^^^^^^^^^^^^^^^^^^^^^^^^^^\nValueError: could not convert string to float: 'MA'\n\n--------------------------------------------------------------------------------\n1 fits failed with the following error:\nTraceback (most recent call last):\n  File \"/Users/luizfelipebessa/Documents/Faculdade/ML/CdD-ML/venv/lib/python3.11/site-packages/sklearn/model_selection/_validation.py\", line 866, in _fit_and_score\n    estimator.fit(X_train, y_train, **fit_params)\n  File \"/Users/luizfelipebessa/Documents/Faculdade/ML/CdD-ML/venv/lib/python3.11/site-packages/sklearn/base.py\", line 1389, in wrapper\n    return fit_method(estimator, *args, **kwargs)\n           ^^^^^^^^^^^^^^^^^^^^^^^^^^^^^^^^^^^^^^\n  File \"/Users/luizfelipebessa/Documents/Faculdade/ML/CdD-ML/venv/lib/python3.11/site-packages/imblearn/pipeline.py\", line 518, in fit\n    Xt, yt = self._fit(X, y, routed_params, raw_params=params)\n             ^^^^^^^^^^^^^^^^^^^^^^^^^^^^^^^^^^^^^^^^^^^^^^^^^\n  File \"/Users/luizfelipebessa/Documents/Faculdade/ML/CdD-ML/venv/lib/python3.11/site-packages/imblearn/pipeline.py\", line 440, in _fit\n    X, y, fitted_transformer = fit_resample_one_cached(\n                               ^^^^^^^^^^^^^^^^^^^^^^^^\n  File \"/Users/luizfelipebessa/Documents/Faculdade/ML/CdD-ML/venv/lib/python3.11/site-packages/joblib/memory.py\", line 326, in __call__\n    return self.func(*args, **kwargs)\n           ^^^^^^^^^^^^^^^^^^^^^^^^^^\n  File \"/Users/luizfelipebessa/Documents/Faculdade/ML/CdD-ML/venv/lib/python3.11/site-packages/imblearn/pipeline.py\", line 1336, in _fit_resample_one\n    X_res, y_res = sampler.fit_resample(X, y, **params.get(\"fit_resample\", {}))\n                   ^^^^^^^^^^^^^^^^^^^^^^^^^^^^^^^^^^^^^^^^^^^^^^^^^^^^^^^^^^^^\n  File \"/Users/luizfelipebessa/Documents/Faculdade/ML/CdD-ML/venv/lib/python3.11/site-packages/imblearn/base.py\", line 202, in fit_resample\n    return super().fit_resample(X, y, **params)\n           ^^^^^^^^^^^^^^^^^^^^^^^^^^^^^^^^^^^^\n  File \"/Users/luizfelipebessa/Documents/Faculdade/ML/CdD-ML/venv/lib/python3.11/site-packages/sklearn/base.py\", line 1389, in wrapper\n    return fit_method(estimator, *args, **kwargs)\n           ^^^^^^^^^^^^^^^^^^^^^^^^^^^^^^^^^^^^^^\n  File \"/Users/luizfelipebessa/Documents/Faculdade/ML/CdD-ML/venv/lib/python3.11/site-packages/imblearn/base.py\", line 99, in fit_resample\n    X, y, binarize_y = self._check_X_y(X, y)\n                       ^^^^^^^^^^^^^^^^^^^^^\n  File \"/Users/luizfelipebessa/Documents/Faculdade/ML/CdD-ML/venv/lib/python3.11/site-packages/imblearn/base.py\", line 157, in _check_X_y\n    X, y = validate_data(self, X=X, y=y, reset=True, accept_sparse=accept_sparse)\n           ^^^^^^^^^^^^^^^^^^^^^^^^^^^^^^^^^^^^^^^^^^^^^^^^^^^^^^^^^^^^^^^^^^^^^^\n  File \"/Users/luizfelipebessa/Documents/Faculdade/ML/CdD-ML/venv/lib/python3.11/site-packages/sklearn/utils/validation.py\", line 2961, in validate_data\n    X, y = check_X_y(X, y, **check_params)\n           ^^^^^^^^^^^^^^^^^^^^^^^^^^^^^^^\n  File \"/Users/luizfelipebessa/Documents/Faculdade/ML/CdD-ML/venv/lib/python3.11/site-packages/sklearn/utils/validation.py\", line 1370, in check_X_y\n    X = check_array(\n        ^^^^^^^^^^^^\n  File \"/Users/luizfelipebessa/Documents/Faculdade/ML/CdD-ML/venv/lib/python3.11/site-packages/sklearn/utils/validation.py\", line 1055, in check_array\n    array = _asarray_with_order(array, order=order, dtype=dtype, xp=xp)\n            ^^^^^^^^^^^^^^^^^^^^^^^^^^^^^^^^^^^^^^^^^^^^^^^^^^^^^^^^^^^\n  File \"/Users/luizfelipebessa/Documents/Faculdade/ML/CdD-ML/venv/lib/python3.11/site-packages/sklearn/utils/_array_api.py\", line 839, in _asarray_with_order\n    array = numpy.asarray(array, order=order, dtype=dtype)\n            ^^^^^^^^^^^^^^^^^^^^^^^^^^^^^^^^^^^^^^^^^^^^^^\n  File \"/Users/luizfelipebessa/Documents/Faculdade/ML/CdD-ML/venv/lib/python3.11/site-packages/pandas/core/generic.py\", line 2153, in __array__\n    arr = np.asarray(values, dtype=dtype)\n          ^^^^^^^^^^^^^^^^^^^^^^^^^^^^^^^\nValueError: could not convert string to float: 'PB'\n",
     "output_type": "error",
     "traceback": [
      "\u001b[31m---------------------------------------------------------------------------\u001b[39m",
      "\u001b[31mValueError\u001b[39m                                Traceback (most recent call last)",
      "\u001b[36mCell\u001b[39m\u001b[36m \u001b[39m\u001b[32mIn[10]\u001b[39m\u001b[32m, line 12\u001b[39m\n\u001b[32m      5\u001b[39m pipeline_smote = ImbPipeline([\n\u001b[32m      6\u001b[39m     (\u001b[33m\"\u001b[39m\u001b[33msmote\u001b[39m\u001b[33m\"\u001b[39m, smote),\n\u001b[32m      7\u001b[39m     (\u001b[33m\"\u001b[39m\u001b[33mpreprocessor\u001b[39m\u001b[33m\"\u001b[39m, preprocessor),\n\u001b[32m      8\u001b[39m     (\u001b[33m\"\u001b[39m\u001b[33mclassifier\u001b[39m\u001b[33m\"\u001b[39m, RandomForestClassifier(random_state=\u001b[32m42\u001b[39m, n_jobs=-\u001b[32m1\u001b[39m))\n\u001b[32m      9\u001b[39m ])\n\u001b[32m     11\u001b[39m \u001b[38;5;66;03m# (1) Validação cruzada com SMOTE\u001b[39;00m\n\u001b[32m---> \u001b[39m\u001b[32m12\u001b[39m scores_smote = \u001b[43mcross_val_score\u001b[49m\u001b[43m(\u001b[49m\n\u001b[32m     13\u001b[39m \u001b[43m    \u001b[49m\u001b[43mpipeline_smote\u001b[49m\u001b[43m,\u001b[49m\n\u001b[32m     14\u001b[39m \u001b[43m    \u001b[49m\u001b[43mX_sub\u001b[49m\u001b[43m,\u001b[49m\u001b[43m \u001b[49m\u001b[43my_sub\u001b[49m\u001b[43m,\u001b[49m\n\u001b[32m     15\u001b[39m \u001b[43m    \u001b[49m\u001b[43mcv\u001b[49m\u001b[43m=\u001b[49m\u001b[43mStratifiedKFold\u001b[49m\u001b[43m(\u001b[49m\u001b[43mn_splits\u001b[49m\u001b[43m=\u001b[49m\u001b[32;43m5\u001b[39;49m\u001b[43m,\u001b[49m\u001b[43m \u001b[49m\u001b[43mshuffle\u001b[49m\u001b[43m=\u001b[49m\u001b[38;5;28;43;01mTrue\u001b[39;49;00m\u001b[43m,\u001b[49m\u001b[43m \u001b[49m\u001b[43mrandom_state\u001b[49m\u001b[43m=\u001b[49m\u001b[32;43m42\u001b[39;49m\u001b[43m)\u001b[49m\u001b[43m,\u001b[49m\n\u001b[32m     16\u001b[39m \u001b[43m    \u001b[49m\u001b[43mscoring\u001b[49m\u001b[43m=\u001b[49m\u001b[33;43m\"\u001b[39;49m\u001b[33;43mf1_macro\u001b[39;49m\u001b[33;43m\"\u001b[39;49m\u001b[43m,\u001b[49m\n\u001b[32m     17\u001b[39m \u001b[43m    \u001b[49m\u001b[43mn_jobs\u001b[49m\u001b[43m=\u001b[49m\u001b[43m-\u001b[49m\u001b[32;43m1\u001b[39;49m\u001b[43m,\u001b[49m\n\u001b[32m     18\u001b[39m \u001b[43m    \u001b[49m\u001b[43mverbose\u001b[49m\u001b[43m=\u001b[49m\u001b[32;43m2\u001b[39;49m\n\u001b[32m     19\u001b[39m \u001b[43m)\u001b[49m\n\u001b[32m     20\u001b[39m \u001b[38;5;28mprint\u001b[39m(\u001b[33m\"\u001b[39m\u001b[38;5;130;01m\\n\u001b[39;00m\u001b[33m📊 Scores F1-macro (SMOTE) por fold:\u001b[39m\u001b[33m\"\u001b[39m, scores_smote)\n\u001b[32m     21\u001b[39m \u001b[38;5;28mprint\u001b[39m(\u001b[33mf\u001b[39m\u001b[33m\"\u001b[39m\u001b[33mMédia (SMOTE): \u001b[39m\u001b[38;5;132;01m{\u001b[39;00mscores_smote.mean()\u001b[38;5;132;01m:\u001b[39;00m\u001b[33m.4f\u001b[39m\u001b[38;5;132;01m}\u001b[39;00m\u001b[33m  |  Desvio: \u001b[39m\u001b[38;5;132;01m{\u001b[39;00mscores_smote.std()\u001b[38;5;132;01m:\u001b[39;00m\u001b[33m.4f\u001b[39m\u001b[38;5;132;01m}\u001b[39;00m\u001b[33m\"\u001b[39m)\n",
      "\u001b[36mFile \u001b[39m\u001b[32m~/Documents/Faculdade/ML/CdD-ML/venv/lib/python3.11/site-packages/sklearn/utils/_param_validation.py:216\u001b[39m, in \u001b[36mvalidate_params.<locals>.decorator.<locals>.wrapper\u001b[39m\u001b[34m(*args, **kwargs)\u001b[39m\n\u001b[32m    210\u001b[39m \u001b[38;5;28;01mtry\u001b[39;00m:\n\u001b[32m    211\u001b[39m     \u001b[38;5;28;01mwith\u001b[39;00m config_context(\n\u001b[32m    212\u001b[39m         skip_parameter_validation=(\n\u001b[32m    213\u001b[39m             prefer_skip_nested_validation \u001b[38;5;129;01mor\u001b[39;00m global_skip_validation\n\u001b[32m    214\u001b[39m         )\n\u001b[32m    215\u001b[39m     ):\n\u001b[32m--> \u001b[39m\u001b[32m216\u001b[39m         \u001b[38;5;28;01mreturn\u001b[39;00m \u001b[43mfunc\u001b[49m\u001b[43m(\u001b[49m\u001b[43m*\u001b[49m\u001b[43margs\u001b[49m\u001b[43m,\u001b[49m\u001b[43m \u001b[49m\u001b[43m*\u001b[49m\u001b[43m*\u001b[49m\u001b[43mkwargs\u001b[49m\u001b[43m)\u001b[49m\n\u001b[32m    217\u001b[39m \u001b[38;5;28;01mexcept\u001b[39;00m InvalidParameterError \u001b[38;5;28;01mas\u001b[39;00m e:\n\u001b[32m    218\u001b[39m     \u001b[38;5;66;03m# When the function is just a wrapper around an estimator, we allow\u001b[39;00m\n\u001b[32m    219\u001b[39m     \u001b[38;5;66;03m# the function to delegate validation to the estimator, but we replace\u001b[39;00m\n\u001b[32m    220\u001b[39m     \u001b[38;5;66;03m# the name of the estimator by the name of the function in the error\u001b[39;00m\n\u001b[32m    221\u001b[39m     \u001b[38;5;66;03m# message to avoid confusion.\u001b[39;00m\n\u001b[32m    222\u001b[39m     msg = re.sub(\n\u001b[32m    223\u001b[39m         \u001b[33mr\u001b[39m\u001b[33m\"\u001b[39m\u001b[33mparameter of \u001b[39m\u001b[33m\\\u001b[39m\u001b[33mw+ must be\u001b[39m\u001b[33m\"\u001b[39m,\n\u001b[32m    224\u001b[39m         \u001b[33mf\u001b[39m\u001b[33m\"\u001b[39m\u001b[33mparameter of \u001b[39m\u001b[38;5;132;01m{\u001b[39;00mfunc.\u001b[34m__qualname__\u001b[39m\u001b[38;5;132;01m}\u001b[39;00m\u001b[33m must be\u001b[39m\u001b[33m\"\u001b[39m,\n\u001b[32m    225\u001b[39m         \u001b[38;5;28mstr\u001b[39m(e),\n\u001b[32m    226\u001b[39m     )\n",
      "\u001b[36mFile \u001b[39m\u001b[32m~/Documents/Faculdade/ML/CdD-ML/venv/lib/python3.11/site-packages/sklearn/model_selection/_validation.py:684\u001b[39m, in \u001b[36mcross_val_score\u001b[39m\u001b[34m(estimator, X, y, groups, scoring, cv, n_jobs, verbose, params, pre_dispatch, error_score)\u001b[39m\n\u001b[32m    681\u001b[39m \u001b[38;5;66;03m# To ensure multimetric format is not supported\u001b[39;00m\n\u001b[32m    682\u001b[39m scorer = check_scoring(estimator, scoring=scoring)\n\u001b[32m--> \u001b[39m\u001b[32m684\u001b[39m cv_results = \u001b[43mcross_validate\u001b[49m\u001b[43m(\u001b[49m\n\u001b[32m    685\u001b[39m \u001b[43m    \u001b[49m\u001b[43mestimator\u001b[49m\u001b[43m=\u001b[49m\u001b[43mestimator\u001b[49m\u001b[43m,\u001b[49m\n\u001b[32m    686\u001b[39m \u001b[43m    \u001b[49m\u001b[43mX\u001b[49m\u001b[43m=\u001b[49m\u001b[43mX\u001b[49m\u001b[43m,\u001b[49m\n\u001b[32m    687\u001b[39m \u001b[43m    \u001b[49m\u001b[43my\u001b[49m\u001b[43m=\u001b[49m\u001b[43my\u001b[49m\u001b[43m,\u001b[49m\n\u001b[32m    688\u001b[39m \u001b[43m    \u001b[49m\u001b[43mgroups\u001b[49m\u001b[43m=\u001b[49m\u001b[43mgroups\u001b[49m\u001b[43m,\u001b[49m\n\u001b[32m    689\u001b[39m \u001b[43m    \u001b[49m\u001b[43mscoring\u001b[49m\u001b[43m=\u001b[49m\u001b[43m{\u001b[49m\u001b[33;43m\"\u001b[39;49m\u001b[33;43mscore\u001b[39;49m\u001b[33;43m\"\u001b[39;49m\u001b[43m:\u001b[49m\u001b[43m \u001b[49m\u001b[43mscorer\u001b[49m\u001b[43m}\u001b[49m\u001b[43m,\u001b[49m\n\u001b[32m    690\u001b[39m \u001b[43m    \u001b[49m\u001b[43mcv\u001b[49m\u001b[43m=\u001b[49m\u001b[43mcv\u001b[49m\u001b[43m,\u001b[49m\n\u001b[32m    691\u001b[39m \u001b[43m    \u001b[49m\u001b[43mn_jobs\u001b[49m\u001b[43m=\u001b[49m\u001b[43mn_jobs\u001b[49m\u001b[43m,\u001b[49m\n\u001b[32m    692\u001b[39m \u001b[43m    \u001b[49m\u001b[43mverbose\u001b[49m\u001b[43m=\u001b[49m\u001b[43mverbose\u001b[49m\u001b[43m,\u001b[49m\n\u001b[32m    693\u001b[39m \u001b[43m    \u001b[49m\u001b[43mparams\u001b[49m\u001b[43m=\u001b[49m\u001b[43mparams\u001b[49m\u001b[43m,\u001b[49m\n\u001b[32m    694\u001b[39m \u001b[43m    \u001b[49m\u001b[43mpre_dispatch\u001b[49m\u001b[43m=\u001b[49m\u001b[43mpre_dispatch\u001b[49m\u001b[43m,\u001b[49m\n\u001b[32m    695\u001b[39m \u001b[43m    \u001b[49m\u001b[43merror_score\u001b[49m\u001b[43m=\u001b[49m\u001b[43merror_score\u001b[49m\u001b[43m,\u001b[49m\n\u001b[32m    696\u001b[39m \u001b[43m\u001b[49m\u001b[43m)\u001b[49m\n\u001b[32m    697\u001b[39m \u001b[38;5;28;01mreturn\u001b[39;00m cv_results[\u001b[33m\"\u001b[39m\u001b[33mtest_score\u001b[39m\u001b[33m\"\u001b[39m]\n",
      "\u001b[36mFile \u001b[39m\u001b[32m~/Documents/Faculdade/ML/CdD-ML/venv/lib/python3.11/site-packages/sklearn/utils/_param_validation.py:216\u001b[39m, in \u001b[36mvalidate_params.<locals>.decorator.<locals>.wrapper\u001b[39m\u001b[34m(*args, **kwargs)\u001b[39m\n\u001b[32m    210\u001b[39m \u001b[38;5;28;01mtry\u001b[39;00m:\n\u001b[32m    211\u001b[39m     \u001b[38;5;28;01mwith\u001b[39;00m config_context(\n\u001b[32m    212\u001b[39m         skip_parameter_validation=(\n\u001b[32m    213\u001b[39m             prefer_skip_nested_validation \u001b[38;5;129;01mor\u001b[39;00m global_skip_validation\n\u001b[32m    214\u001b[39m         )\n\u001b[32m    215\u001b[39m     ):\n\u001b[32m--> \u001b[39m\u001b[32m216\u001b[39m         \u001b[38;5;28;01mreturn\u001b[39;00m \u001b[43mfunc\u001b[49m\u001b[43m(\u001b[49m\u001b[43m*\u001b[49m\u001b[43margs\u001b[49m\u001b[43m,\u001b[49m\u001b[43m \u001b[49m\u001b[43m*\u001b[49m\u001b[43m*\u001b[49m\u001b[43mkwargs\u001b[49m\u001b[43m)\u001b[49m\n\u001b[32m    217\u001b[39m \u001b[38;5;28;01mexcept\u001b[39;00m InvalidParameterError \u001b[38;5;28;01mas\u001b[39;00m e:\n\u001b[32m    218\u001b[39m     \u001b[38;5;66;03m# When the function is just a wrapper around an estimator, we allow\u001b[39;00m\n\u001b[32m    219\u001b[39m     \u001b[38;5;66;03m# the function to delegate validation to the estimator, but we replace\u001b[39;00m\n\u001b[32m    220\u001b[39m     \u001b[38;5;66;03m# the name of the estimator by the name of the function in the error\u001b[39;00m\n\u001b[32m    221\u001b[39m     \u001b[38;5;66;03m# message to avoid confusion.\u001b[39;00m\n\u001b[32m    222\u001b[39m     msg = re.sub(\n\u001b[32m    223\u001b[39m         \u001b[33mr\u001b[39m\u001b[33m\"\u001b[39m\u001b[33mparameter of \u001b[39m\u001b[33m\\\u001b[39m\u001b[33mw+ must be\u001b[39m\u001b[33m\"\u001b[39m,\n\u001b[32m    224\u001b[39m         \u001b[33mf\u001b[39m\u001b[33m\"\u001b[39m\u001b[33mparameter of \u001b[39m\u001b[38;5;132;01m{\u001b[39;00mfunc.\u001b[34m__qualname__\u001b[39m\u001b[38;5;132;01m}\u001b[39;00m\u001b[33m must be\u001b[39m\u001b[33m\"\u001b[39m,\n\u001b[32m    225\u001b[39m         \u001b[38;5;28mstr\u001b[39m(e),\n\u001b[32m    226\u001b[39m     )\n",
      "\u001b[36mFile \u001b[39m\u001b[32m~/Documents/Faculdade/ML/CdD-ML/venv/lib/python3.11/site-packages/sklearn/model_selection/_validation.py:431\u001b[39m, in \u001b[36mcross_validate\u001b[39m\u001b[34m(estimator, X, y, groups, scoring, cv, n_jobs, verbose, params, pre_dispatch, return_train_score, return_estimator, return_indices, error_score)\u001b[39m\n\u001b[32m    410\u001b[39m parallel = Parallel(n_jobs=n_jobs, verbose=verbose, pre_dispatch=pre_dispatch)\n\u001b[32m    411\u001b[39m results = parallel(\n\u001b[32m    412\u001b[39m     delayed(_fit_and_score)(\n\u001b[32m    413\u001b[39m         clone(estimator),\n\u001b[32m   (...)\u001b[39m\u001b[32m    428\u001b[39m     \u001b[38;5;28;01mfor\u001b[39;00m train, test \u001b[38;5;129;01min\u001b[39;00m indices\n\u001b[32m    429\u001b[39m )\n\u001b[32m--> \u001b[39m\u001b[32m431\u001b[39m \u001b[43m_warn_or_raise_about_fit_failures\u001b[49m\u001b[43m(\u001b[49m\u001b[43mresults\u001b[49m\u001b[43m,\u001b[49m\u001b[43m \u001b[49m\u001b[43merror_score\u001b[49m\u001b[43m)\u001b[49m\n\u001b[32m    433\u001b[39m \u001b[38;5;66;03m# For callable scoring, the return type is only know after calling. If the\u001b[39;00m\n\u001b[32m    434\u001b[39m \u001b[38;5;66;03m# return type is a dictionary, the error scores can now be inserted with\u001b[39;00m\n\u001b[32m    435\u001b[39m \u001b[38;5;66;03m# the correct key.\u001b[39;00m\n\u001b[32m    436\u001b[39m \u001b[38;5;28;01mif\u001b[39;00m \u001b[38;5;28mcallable\u001b[39m(scoring):\n",
      "\u001b[36mFile \u001b[39m\u001b[32m~/Documents/Faculdade/ML/CdD-ML/venv/lib/python3.11/site-packages/sklearn/model_selection/_validation.py:517\u001b[39m, in \u001b[36m_warn_or_raise_about_fit_failures\u001b[39m\u001b[34m(results, error_score)\u001b[39m\n\u001b[32m    510\u001b[39m \u001b[38;5;28;01mif\u001b[39;00m num_failed_fits == num_fits:\n\u001b[32m    511\u001b[39m     all_fits_failed_message = (\n\u001b[32m    512\u001b[39m         \u001b[33mf\u001b[39m\u001b[33m\"\u001b[39m\u001b[38;5;130;01m\\n\u001b[39;00m\u001b[33mAll the \u001b[39m\u001b[38;5;132;01m{\u001b[39;00mnum_fits\u001b[38;5;132;01m}\u001b[39;00m\u001b[33m fits failed.\u001b[39m\u001b[38;5;130;01m\\n\u001b[39;00m\u001b[33m\"\u001b[39m\n\u001b[32m    513\u001b[39m         \u001b[33m\"\u001b[39m\u001b[33mIt is very likely that your model is misconfigured.\u001b[39m\u001b[38;5;130;01m\\n\u001b[39;00m\u001b[33m\"\u001b[39m\n\u001b[32m    514\u001b[39m         \u001b[33m\"\u001b[39m\u001b[33mYou can try to debug the error by setting error_score=\u001b[39m\u001b[33m'\u001b[39m\u001b[33mraise\u001b[39m\u001b[33m'\u001b[39m\u001b[33m.\u001b[39m\u001b[38;5;130;01m\\n\u001b[39;00m\u001b[38;5;130;01m\\n\u001b[39;00m\u001b[33m\"\u001b[39m\n\u001b[32m    515\u001b[39m         \u001b[33mf\u001b[39m\u001b[33m\"\u001b[39m\u001b[33mBelow are more details about the failures:\u001b[39m\u001b[38;5;130;01m\\n\u001b[39;00m\u001b[38;5;132;01m{\u001b[39;00mfit_errors_summary\u001b[38;5;132;01m}\u001b[39;00m\u001b[33m\"\u001b[39m\n\u001b[32m    516\u001b[39m     )\n\u001b[32m--> \u001b[39m\u001b[32m517\u001b[39m     \u001b[38;5;28;01mraise\u001b[39;00m \u001b[38;5;167;01mValueError\u001b[39;00m(all_fits_failed_message)\n\u001b[32m    519\u001b[39m \u001b[38;5;28;01melse\u001b[39;00m:\n\u001b[32m    520\u001b[39m     some_fits_failed_message = (\n\u001b[32m    521\u001b[39m         \u001b[33mf\u001b[39m\u001b[33m\"\u001b[39m\u001b[38;5;130;01m\\n\u001b[39;00m\u001b[38;5;132;01m{\u001b[39;00mnum_failed_fits\u001b[38;5;132;01m}\u001b[39;00m\u001b[33m fits failed out of a total of \u001b[39m\u001b[38;5;132;01m{\u001b[39;00mnum_fits\u001b[38;5;132;01m}\u001b[39;00m\u001b[33m.\u001b[39m\u001b[38;5;130;01m\\n\u001b[39;00m\u001b[33m\"\u001b[39m\n\u001b[32m    522\u001b[39m         \u001b[33m\"\u001b[39m\u001b[33mThe score on these train-test partitions for these parameters\u001b[39m\u001b[33m\"\u001b[39m\n\u001b[32m   (...)\u001b[39m\u001b[32m    526\u001b[39m         \u001b[33mf\u001b[39m\u001b[33m\"\u001b[39m\u001b[33mBelow are more details about the failures:\u001b[39m\u001b[38;5;130;01m\\n\u001b[39;00m\u001b[38;5;132;01m{\u001b[39;00mfit_errors_summary\u001b[38;5;132;01m}\u001b[39;00m\u001b[33m\"\u001b[39m\n\u001b[32m    527\u001b[39m     )\n",
      "\u001b[31mValueError\u001b[39m: \nAll the 5 fits failed.\nIt is very likely that your model is misconfigured.\nYou can try to debug the error by setting error_score='raise'.\n\nBelow are more details about the failures:\n--------------------------------------------------------------------------------\n4 fits failed with the following error:\nTraceback (most recent call last):\n  File \"/Users/luizfelipebessa/Documents/Faculdade/ML/CdD-ML/venv/lib/python3.11/site-packages/sklearn/model_selection/_validation.py\", line 866, in _fit_and_score\n    estimator.fit(X_train, y_train, **fit_params)\n  File \"/Users/luizfelipebessa/Documents/Faculdade/ML/CdD-ML/venv/lib/python3.11/site-packages/sklearn/base.py\", line 1389, in wrapper\n    return fit_method(estimator, *args, **kwargs)\n           ^^^^^^^^^^^^^^^^^^^^^^^^^^^^^^^^^^^^^^\n  File \"/Users/luizfelipebessa/Documents/Faculdade/ML/CdD-ML/venv/lib/python3.11/site-packages/imblearn/pipeline.py\", line 518, in fit\n    Xt, yt = self._fit(X, y, routed_params, raw_params=params)\n             ^^^^^^^^^^^^^^^^^^^^^^^^^^^^^^^^^^^^^^^^^^^^^^^^^\n  File \"/Users/luizfelipebessa/Documents/Faculdade/ML/CdD-ML/venv/lib/python3.11/site-packages/imblearn/pipeline.py\", line 440, in _fit\n    X, y, fitted_transformer = fit_resample_one_cached(\n                               ^^^^^^^^^^^^^^^^^^^^^^^^\n  File \"/Users/luizfelipebessa/Documents/Faculdade/ML/CdD-ML/venv/lib/python3.11/site-packages/joblib/memory.py\", line 326, in __call__\n    return self.func(*args, **kwargs)\n           ^^^^^^^^^^^^^^^^^^^^^^^^^^\n  File \"/Users/luizfelipebessa/Documents/Faculdade/ML/CdD-ML/venv/lib/python3.11/site-packages/imblearn/pipeline.py\", line 1336, in _fit_resample_one\n    X_res, y_res = sampler.fit_resample(X, y, **params.get(\"fit_resample\", {}))\n                   ^^^^^^^^^^^^^^^^^^^^^^^^^^^^^^^^^^^^^^^^^^^^^^^^^^^^^^^^^^^^\n  File \"/Users/luizfelipebessa/Documents/Faculdade/ML/CdD-ML/venv/lib/python3.11/site-packages/imblearn/base.py\", line 202, in fit_resample\n    return super().fit_resample(X, y, **params)\n           ^^^^^^^^^^^^^^^^^^^^^^^^^^^^^^^^^^^^\n  File \"/Users/luizfelipebessa/Documents/Faculdade/ML/CdD-ML/venv/lib/python3.11/site-packages/sklearn/base.py\", line 1389, in wrapper\n    return fit_method(estimator, *args, **kwargs)\n           ^^^^^^^^^^^^^^^^^^^^^^^^^^^^^^^^^^^^^^\n  File \"/Users/luizfelipebessa/Documents/Faculdade/ML/CdD-ML/venv/lib/python3.11/site-packages/imblearn/base.py\", line 99, in fit_resample\n    X, y, binarize_y = self._check_X_y(X, y)\n                       ^^^^^^^^^^^^^^^^^^^^^\n  File \"/Users/luizfelipebessa/Documents/Faculdade/ML/CdD-ML/venv/lib/python3.11/site-packages/imblearn/base.py\", line 157, in _check_X_y\n    X, y = validate_data(self, X=X, y=y, reset=True, accept_sparse=accept_sparse)\n           ^^^^^^^^^^^^^^^^^^^^^^^^^^^^^^^^^^^^^^^^^^^^^^^^^^^^^^^^^^^^^^^^^^^^^^\n  File \"/Users/luizfelipebessa/Documents/Faculdade/ML/CdD-ML/venv/lib/python3.11/site-packages/sklearn/utils/validation.py\", line 2961, in validate_data\n    X, y = check_X_y(X, y, **check_params)\n           ^^^^^^^^^^^^^^^^^^^^^^^^^^^^^^^\n  File \"/Users/luizfelipebessa/Documents/Faculdade/ML/CdD-ML/venv/lib/python3.11/site-packages/sklearn/utils/validation.py\", line 1370, in check_X_y\n    X = check_array(\n        ^^^^^^^^^^^^\n  File \"/Users/luizfelipebessa/Documents/Faculdade/ML/CdD-ML/venv/lib/python3.11/site-packages/sklearn/utils/validation.py\", line 1055, in check_array\n    array = _asarray_with_order(array, order=order, dtype=dtype, xp=xp)\n            ^^^^^^^^^^^^^^^^^^^^^^^^^^^^^^^^^^^^^^^^^^^^^^^^^^^^^^^^^^^\n  File \"/Users/luizfelipebessa/Documents/Faculdade/ML/CdD-ML/venv/lib/python3.11/site-packages/sklearn/utils/_array_api.py\", line 839, in _asarray_with_order\n    array = numpy.asarray(array, order=order, dtype=dtype)\n            ^^^^^^^^^^^^^^^^^^^^^^^^^^^^^^^^^^^^^^^^^^^^^^\n  File \"/Users/luizfelipebessa/Documents/Faculdade/ML/CdD-ML/venv/lib/python3.11/site-packages/pandas/core/generic.py\", line 2153, in __array__\n    arr = np.asarray(values, dtype=dtype)\n          ^^^^^^^^^^^^^^^^^^^^^^^^^^^^^^^\nValueError: could not convert string to float: 'MA'\n\n--------------------------------------------------------------------------------\n1 fits failed with the following error:\nTraceback (most recent call last):\n  File \"/Users/luizfelipebessa/Documents/Faculdade/ML/CdD-ML/venv/lib/python3.11/site-packages/sklearn/model_selection/_validation.py\", line 866, in _fit_and_score\n    estimator.fit(X_train, y_train, **fit_params)\n  File \"/Users/luizfelipebessa/Documents/Faculdade/ML/CdD-ML/venv/lib/python3.11/site-packages/sklearn/base.py\", line 1389, in wrapper\n    return fit_method(estimator, *args, **kwargs)\n           ^^^^^^^^^^^^^^^^^^^^^^^^^^^^^^^^^^^^^^\n  File \"/Users/luizfelipebessa/Documents/Faculdade/ML/CdD-ML/venv/lib/python3.11/site-packages/imblearn/pipeline.py\", line 518, in fit\n    Xt, yt = self._fit(X, y, routed_params, raw_params=params)\n             ^^^^^^^^^^^^^^^^^^^^^^^^^^^^^^^^^^^^^^^^^^^^^^^^^\n  File \"/Users/luizfelipebessa/Documents/Faculdade/ML/CdD-ML/venv/lib/python3.11/site-packages/imblearn/pipeline.py\", line 440, in _fit\n    X, y, fitted_transformer = fit_resample_one_cached(\n                               ^^^^^^^^^^^^^^^^^^^^^^^^\n  File \"/Users/luizfelipebessa/Documents/Faculdade/ML/CdD-ML/venv/lib/python3.11/site-packages/joblib/memory.py\", line 326, in __call__\n    return self.func(*args, **kwargs)\n           ^^^^^^^^^^^^^^^^^^^^^^^^^^\n  File \"/Users/luizfelipebessa/Documents/Faculdade/ML/CdD-ML/venv/lib/python3.11/site-packages/imblearn/pipeline.py\", line 1336, in _fit_resample_one\n    X_res, y_res = sampler.fit_resample(X, y, **params.get(\"fit_resample\", {}))\n                   ^^^^^^^^^^^^^^^^^^^^^^^^^^^^^^^^^^^^^^^^^^^^^^^^^^^^^^^^^^^^\n  File \"/Users/luizfelipebessa/Documents/Faculdade/ML/CdD-ML/venv/lib/python3.11/site-packages/imblearn/base.py\", line 202, in fit_resample\n    return super().fit_resample(X, y, **params)\n           ^^^^^^^^^^^^^^^^^^^^^^^^^^^^^^^^^^^^\n  File \"/Users/luizfelipebessa/Documents/Faculdade/ML/CdD-ML/venv/lib/python3.11/site-packages/sklearn/base.py\", line 1389, in wrapper\n    return fit_method(estimator, *args, **kwargs)\n           ^^^^^^^^^^^^^^^^^^^^^^^^^^^^^^^^^^^^^^\n  File \"/Users/luizfelipebessa/Documents/Faculdade/ML/CdD-ML/venv/lib/python3.11/site-packages/imblearn/base.py\", line 99, in fit_resample\n    X, y, binarize_y = self._check_X_y(X, y)\n                       ^^^^^^^^^^^^^^^^^^^^^\n  File \"/Users/luizfelipebessa/Documents/Faculdade/ML/CdD-ML/venv/lib/python3.11/site-packages/imblearn/base.py\", line 157, in _check_X_y\n    X, y = validate_data(self, X=X, y=y, reset=True, accept_sparse=accept_sparse)\n           ^^^^^^^^^^^^^^^^^^^^^^^^^^^^^^^^^^^^^^^^^^^^^^^^^^^^^^^^^^^^^^^^^^^^^^\n  File \"/Users/luizfelipebessa/Documents/Faculdade/ML/CdD-ML/venv/lib/python3.11/site-packages/sklearn/utils/validation.py\", line 2961, in validate_data\n    X, y = check_X_y(X, y, **check_params)\n           ^^^^^^^^^^^^^^^^^^^^^^^^^^^^^^^\n  File \"/Users/luizfelipebessa/Documents/Faculdade/ML/CdD-ML/venv/lib/python3.11/site-packages/sklearn/utils/validation.py\", line 1370, in check_X_y\n    X = check_array(\n        ^^^^^^^^^^^^\n  File \"/Users/luizfelipebessa/Documents/Faculdade/ML/CdD-ML/venv/lib/python3.11/site-packages/sklearn/utils/validation.py\", line 1055, in check_array\n    array = _asarray_with_order(array, order=order, dtype=dtype, xp=xp)\n            ^^^^^^^^^^^^^^^^^^^^^^^^^^^^^^^^^^^^^^^^^^^^^^^^^^^^^^^^^^^\n  File \"/Users/luizfelipebessa/Documents/Faculdade/ML/CdD-ML/venv/lib/python3.11/site-packages/sklearn/utils/_array_api.py\", line 839, in _asarray_with_order\n    array = numpy.asarray(array, order=order, dtype=dtype)\n            ^^^^^^^^^^^^^^^^^^^^^^^^^^^^^^^^^^^^^^^^^^^^^^\n  File \"/Users/luizfelipebessa/Documents/Faculdade/ML/CdD-ML/venv/lib/python3.11/site-packages/pandas/core/generic.py\", line 2153, in __array__\n    arr = np.asarray(values, dtype=dtype)\n          ^^^^^^^^^^^^^^^^^^^^^^^^^^^^^^^\nValueError: could not convert string to float: 'PB'\n"
     ]
    }
   ],
   "source": [
    "print(\"\\n🧪 TENTATIVA COM SMOTE (oversampling da classe 1)...\")\n",
    "\n",
    "# Pipeline com SMOTE\n",
    "smote = SMOTE(sampling_strategy=0.5, random_state=42)\n",
    "pipeline_smote = ImbPipeline([\n",
    "    (\"smote\", smote),\n",
    "    (\"preprocessor\", preprocessor),\n",
    "    (\"classifier\", RandomForestClassifier(random_state=42, n_jobs=-1))\n",
    "])\n",
    "\n",
    "# (1) Validação cruzada com SMOTE\n",
    "scores_smote = cross_val_score(\n",
    "    pipeline_smote,\n",
    "    X_sub, y_sub,\n",
    "    cv=StratifiedKFold(n_splits=5, shuffle=True, random_state=42),\n",
    "    scoring=\"f1_macro\",\n",
    "    n_jobs=-1,\n",
    "    verbose=2\n",
    ")\n",
    "print(\"\\n📊 Scores F1-macro (SMOTE) por fold:\", scores_smote)\n",
    "print(f\"Média (SMOTE): {scores_smote.mean():.4f}  |  Desvio: {scores_smote.std():.4f}\")\n",
    "\n",
    "# (2) Treino/Teste com SMOTE e Matriz de Confusão\n",
    "X_tr_smote, X_te_smote, y_tr_smote, y_te_smote = train_test_split(\n",
    "    X_sub, y_sub, stratify=y_sub, test_size=0.20, random_state=42\n",
    ")\n",
    "pipeline_smote.fit(X_tr_smote, y_tr_smote)\n",
    "y_pred_smote = pipeline_smote.predict(X_te_smote)\n",
    "\n",
    "print(\"\\n✅ Relatório (SMOTE):\")\n",
    "print(classification_report(y_te_smote, y_pred_smote))\n",
    "\n",
    "print(\"\\n🔲 Matriz de Confusão (SMOTE):\")\n",
    "cm_smote = confusion_matrix(y_te_smote, y_pred_smote)\n",
    "plt.figure(figsize=(5, 4))\n",
    "sns.heatmap(cm_smote, annot=True, fmt=\"d\", cmap=\"Blues\")\n",
    "plt.title(\"Matriz de Confusão (SMOTE)\")\n",
    "plt.xlabel(\"Previsto\")\n",
    "plt.ylabel(\"Real\")\n",
    "plt.tight_layout()\n",
    "plt.show()"
   ]
  },
  {
   "cell_type": "markdown",
   "id": "2dd809e1",
   "metadata": {},
   "source": [
    "## 11. Resumo de Falsos Negativos (FN) por Configuração"
   ]
  },
  {
   "cell_type": "code",
   "execution_count": 11,
   "id": "72e1f839",
   "metadata": {},
   "outputs": [
    {
     "ename": "NameError",
     "evalue": "name 'cm_smote' is not defined",
     "output_type": "error",
     "traceback": [
      "\u001b[31m---------------------------------------------------------------------------\u001b[39m",
      "\u001b[31mNameError\u001b[39m                                 Traceback (most recent call last)",
      "\u001b[36mCell\u001b[39m\u001b[36m \u001b[39m\u001b[32mIn[11]\u001b[39m\u001b[32m, line 12\u001b[39m\n\u001b[32m      6\u001b[39m resumo.append({\n\u001b[32m      7\u001b[39m     \u001b[33m\"\u001b[39m\u001b[33mconfiguração\u001b[39m\u001b[33m\"\u001b[39m: \u001b[33m\"\u001b[39m\u001b[33mBase (cw=balanced, thr=0.5)\u001b[39m\u001b[33m\"\u001b[39m,\n\u001b[32m      8\u001b[39m     \u001b[33m\"\u001b[39m\u001b[33mTN\u001b[39m\u001b[33m\"\u001b[39m: tn, \u001b[33m\"\u001b[39m\u001b[33mFP\u001b[39m\u001b[33m\"\u001b[39m: fp, \u001b[33m\"\u001b[39m\u001b[33mFN\u001b[39m\u001b[33m\"\u001b[39m: fn, \u001b[33m\"\u001b[39m\u001b[33mTP\u001b[39m\u001b[33m\"\u001b[39m: tp\n\u001b[32m      9\u001b[39m })\n\u001b[32m     11\u001b[39m \u001b[38;5;66;03m# (ii) SMOTE\u001b[39;00m\n\u001b[32m---> \u001b[39m\u001b[32m12\u001b[39m tn2, fp2, fn2, tp2 = \u001b[43mcm_smote\u001b[49m.ravel()\n\u001b[32m     13\u001b[39m resumo.append({\n\u001b[32m     14\u001b[39m     \u001b[33m\"\u001b[39m\u001b[33mconfiguração\u001b[39m\u001b[33m\"\u001b[39m: \u001b[33m\"\u001b[39m\u001b[33mSMOTE (1/0=0.5)\u001b[39m\u001b[33m\"\u001b[39m,\n\u001b[32m     15\u001b[39m     \u001b[33m\"\u001b[39m\u001b[33mTN\u001b[39m\u001b[33m\"\u001b[39m: tn2, \u001b[33m\"\u001b[39m\u001b[33mFP\u001b[39m\u001b[33m\"\u001b[39m: fp2, \u001b[33m\"\u001b[39m\u001b[33mFN\u001b[39m\u001b[33m\"\u001b[39m: fn2, \u001b[33m\"\u001b[39m\u001b[33mTP\u001b[39m\u001b[33m\"\u001b[39m: tp2\n\u001b[32m     16\u001b[39m })\n\u001b[32m     18\u001b[39m df_resumo = pd.DataFrame(resumo)\n",
      "\u001b[31mNameError\u001b[39m: name 'cm_smote' is not defined"
     ]
    }
   ],
   "source": [
    "import pandas as pd\n",
    "\n",
    "resumo = []\n",
    "# (i) Modelo-base (threshold=0.50)\n",
    "tn, fp, fn, tp = cm.ravel()\n",
    "resumo.append({\n",
    "    \"configuração\": \"Base (cw=balanced, thr=0.5)\",\n",
    "    \"TN\": tn, \"FP\": fp, \"FN\": fn, \"TP\": tp\n",
    "})\n",
    "\n",
    "# (ii) SMOTE\n",
    "tn2, fp2, fn2, tp2 = cm_smote.ravel()\n",
    "resumo.append({\n",
    "    \"configuração\": \"SMOTE (1/0=0.5)\",\n",
    "    \"TN\": tn2, \"FP\": fp2, \"FN\": fn2, \"TP\": tp2\n",
    "})\n",
    "\n",
    "df_resumo = pd.DataFrame(resumo)\n",
    "display(df_resumo)\n",
    "\n",
    "# Gráfico de comparação de FN\n",
    "plt.figure(figsize=(6,4))\n",
    "sns.barplot(data=df_resumo, x=\"configuração\", y=\"FN\", palette=\"Set2\")\n",
    "plt.xticks(rotation=30, ha=\"right\")\n",
    "plt.ylabel(\"Quantidade de Falsos Negativos\")\n",
    "plt.title(\"Comparação de FN entre Configurações\")\n",
    "plt.tight_layout()\n",
    "plt.show()"
   ]
  },
  {
   "cell_type": "markdown",
   "id": "95005c0b",
   "metadata": {},
   "source": [
    "## Fim do Notebook"
   ]
  }
 ],
 "metadata": {
  "kernelspec": {
   "display_name": "venv",
   "language": "python",
   "name": "python3"
  },
  "language_info": {
   "codemirror_mode": {
    "name": "ipython",
    "version": 3
   },
   "file_extension": ".py",
   "mimetype": "text/x-python",
   "name": "python",
   "nbconvert_exporter": "python",
   "pygments_lexer": "ipython3",
   "version": "3.11.8"
  }
 },
 "nbformat": 4,
 "nbformat_minor": 5
}
