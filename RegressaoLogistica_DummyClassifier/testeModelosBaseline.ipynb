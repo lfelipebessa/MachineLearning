{
  "nbformat": 4,
  "nbformat_minor": 0,
  "metadata": {
    "colab": {
      "provenance": [],
      "authorship_tag": "ABX9TyOHLd405xZH6hHn0NDj2YhQ",
      "include_colab_link": true
    },
    "kernelspec": {
      "name": "python3",
      "display_name": "Python 3"
    },
    "language_info": {
      "name": "python"
    }
  },
  "cells": [
    {
      "cell_type": "markdown",
      "metadata": {
        "id": "view-in-github",
        "colab_type": "text"
      },
      "source": [
        "<a href=\"https://colab.research.google.com/github/DaviRogs/CdD-ML/blob/Organizada/RegressaoLogistica_DummyClassifier/testeModelosBaseline.ipynb\" target=\"_parent\"><img src=\"https://colab.research.google.com/assets/colab-badge.svg\" alt=\"Open In Colab\"/></a>"
      ]
    },
    {
      "cell_type": "markdown",
      "source": [
        "Importando as bibliotecas necessárias."
      ],
      "metadata": {
        "id": "D4RTaPpn9MPK"
      }
    },
    {
      "cell_type": "code",
      "execution_count": 1,
      "metadata": {
        "id": "-1aA6JX7wkhY"
      },
      "outputs": [],
      "source": [
        "import pandas as pd\n",
        "from sklearn.model_selection import train_test_split\n",
        "from sklearn.linear_model import LogisticRegression\n",
        "from sklearn.dummy import DummyClassifier\n",
        "from sklearn.metrics import accuracy_score, confusion_matrix, classification_report\n",
        "import seaborn as sns\n",
        "import matplotlib.pyplot as plt\n",
        "from sklearn.preprocessing import LabelEncoder"
      ]
    },
    {
      "cell_type": "markdown",
      "source": [
        "Carregando o dataset e removendo linhas que possam contar algum valor NaN, que interferem com o modelo de Regressão Logística, o impedindo de rodar."
      ],
      "metadata": {
        "id": "Ig5uShIW9Pnw"
      }
    },
    {
      "cell_type": "code",
      "source": [
        "# Carregando o dataset\n",
        "df = pd.read_csv(\"https://media.githubusercontent.com/media/DaviRogs/CdD-ML/refs/heads/main/dados/df_consolidado.csv\")\n",
        "\n",
        "df = df.dropna()\n",
        "\n",
        "# Exibindo as 5 primeiras linhas\n",
        "print(df.info())\n"
      ],
      "metadata": {
        "colab": {
          "base_uri": "https://localhost:8080/"
        },
        "id": "X5ob-b9hyJ8w",
        "outputId": "ea81eebc-fd07-41e4-d2ed-dffb8aa419f0"
      },
      "execution_count": 8,
      "outputs": [
        {
          "output_type": "stream",
          "name": "stderr",
          "text": [
            "<ipython-input-8-a61dec50e6a7>:2: DtypeWarning: Columns (2) have mixed types. Specify dtype option on import or set low_memory=False.\n",
            "  df = pd.read_csv(\"https://media.githubusercontent.com/media/DaviRogs/CdD-ML/refs/heads/main/dados/df_consolidado.csv\")\n"
          ]
        },
        {
          "output_type": "stream",
          "name": "stdout",
          "text": [
            "<class 'pandas.core.frame.DataFrame'>\n",
            "Index: 1089222 entries, 2019 to 4954788\n",
            "Data columns (total 15 columns):\n",
            " #   Column             Non-Null Count    Dtype  \n",
            "---  ------             --------------    -----  \n",
            " 0   id_votacao         1089222 non-null  object \n",
            " 1   id_deputado        1089222 non-null  int64  \n",
            " 2   tipoVoto           1089222 non-null  object \n",
            " 3   siglaUf            1089222 non-null  object \n",
            " 4   id_partido         1089222 non-null  float64\n",
            " 5   id_proposicao      1089222 non-null  int64  \n",
            " 6   data               1089222 non-null  object \n",
            " 7   sigla_orgao        1089222 non-null  object \n",
            " 8   aprovacao          1089222 non-null  float64\n",
            " 9   cod_tipo           1089222 non-null  int64  \n",
            " 10  numero_proposicao  1089222 non-null  int64  \n",
            " 11  ano                1089222 non-null  int64  \n",
            " 12  orientacao         1089222 non-null  object \n",
            " 13  id_autor           1089222 non-null  float64\n",
            " 14  tema               1089222 non-null  object \n",
            "dtypes: float64(3), int64(5), object(7)\n",
            "memory usage: 133.0+ MB\n",
            "None\n"
          ]
        }
      ]
    },
    {
      "cell_type": "markdown",
      "source": [
        "Separando o dataset em features (X) e target (y)."
      ],
      "metadata": {
        "id": "fqTOG2le9cEp"
      }
    },
    {
      "cell_type": "code",
      "source": [
        "X = df.drop(columns=[\"aprovacao\"])\n",
        "y = df[\"aprovacao\"]\n",
        "\n",
        "le = LabelEncoder()\n",
        "\n",
        "for col in X.select_dtypes(include='object').columns:\n",
        "    X[col] = le.fit_transform(X[col].astype(str))\n",
        "\n",
        "print(X.head())\n",
        "\n",
        "print(\"----------\")\n",
        "\n",
        "print(y.info())"
      ],
      "metadata": {
        "colab": {
          "base_uri": "https://localhost:8080/"
        },
        "id": "YcFlmqcP2B0t",
        "outputId": "40c9dfca-9bc7-4335-f503-e7b4073038d1"
      },
      "execution_count": 9,
      "outputs": [
        {
          "output_type": "stream",
          "name": "stdout",
          "text": [
            "      id_votacao  id_deputado  tipoVoto  siglaUf  id_partido  id_proposicao  \\\n",
            "2019         466       156190         1       22     37901.0         559138   \n",
            "2022         466       156190         1       22     37901.0         559138   \n",
            "2024         466       156190         1       22     37901.0         559138   \n",
            "2026         466       156190         1       22     37901.0         559138   \n",
            "2043         466       204528         1       25     37901.0         559138   \n",
            "\n",
            "      data  sigla_orgao  cod_tipo  numero_proposicao   ano  orientacao  \\\n",
            "2019   182           12       139               6606  2019           4   \n",
            "2022   182           12       139               6606  2019           4   \n",
            "2024   182           12       139               6606  2019           4   \n",
            "2026   182           12       139               6606  2019           4   \n",
            "2043   182           12       139               6606  2019           4   \n",
            "\n",
            "      id_autor  tema  \n",
            "2019  160538.0    43  \n",
            "2022   74784.0    43  \n",
            "2024  160556.0    43  \n",
            "2026  141488.0    43  \n",
            "2043  160538.0    43  \n",
            "----------\n",
            "<class 'pandas.core.series.Series'>\n",
            "Index: 1089222 entries, 2019 to 4954788\n",
            "Series name: aprovacao\n",
            "Non-Null Count    Dtype  \n",
            "--------------    -----  \n",
            "1089222 non-null  float64\n",
            "dtypes: float64(1)\n",
            "memory usage: 16.6 MB\n",
            "None\n"
          ]
        }
      ]
    },
    {
      "cell_type": "markdown",
      "source": [
        "Divindo o data set em conjunto de teste e treino."
      ],
      "metadata": {
        "id": "7bsL3liL9xjD"
      }
    },
    {
      "cell_type": "code",
      "source": [
        "X_train, X_test, y_train, y_test = train_test_split(\n",
        "    X, y, test_size=0.2, random_state=42, stratify=y\n",
        ")"
      ],
      "metadata": {
        "id": "8Zz_DeZQ0UHk"
      },
      "execution_count": 10,
      "outputs": []
    },
    {
      "cell_type": "markdown",
      "source": [
        "Aplicando o modelo baseline – DummyClassifier."
      ],
      "metadata": {
        "id": "5noXpIV995eA"
      }
    },
    {
      "cell_type": "code",
      "source": [
        "dummy = DummyClassifier(strategy=\"most_frequent\")\n",
        "dummy.fit(X_train, y_train)\n",
        "y_pred_dummy = dummy.predict(X_test)\n",
        "\n",
        "# Avaliação\n",
        "print(\"Desempenho do DummyClassifier:\")\n",
        "print(\"Acurácia:\", accuracy_score(y_test, y_pred_dummy))\n",
        "print(\"Matriz de Confusão:\")\n",
        "print(confusion_matrix(y_test, y_pred_dummy))\n",
        "print(\"Relatório de Classificação:\")\n",
        "print(classification_report(y_test, y_pred_dummy))\n"
      ],
      "metadata": {
        "colab": {
          "base_uri": "https://localhost:8080/"
        },
        "id": "svIgYKkd0mt_",
        "outputId": "f6622fcf-b0e7-4cf0-a5aa-bc863b51456d"
      },
      "execution_count": 14,
      "outputs": [
        {
          "output_type": "stream",
          "name": "stdout",
          "text": [
            "Desempenho do DummyClassifier:\n",
            "Acurácia: 0.5657233353990222\n",
            "Matriz de Confusão:\n",
            "[[123240      0]\n",
            " [ 94605      0]]\n",
            "Relatório de Classificação:\n"
          ]
        },
        {
          "output_type": "stream",
          "name": "stderr",
          "text": [
            "/usr/local/lib/python3.11/dist-packages/sklearn/metrics/_classification.py:1565: UndefinedMetricWarning: Precision is ill-defined and being set to 0.0 in labels with no predicted samples. Use `zero_division` parameter to control this behavior.\n",
            "  _warn_prf(average, modifier, f\"{metric.capitalize()} is\", len(result))\n",
            "/usr/local/lib/python3.11/dist-packages/sklearn/metrics/_classification.py:1565: UndefinedMetricWarning: Precision is ill-defined and being set to 0.0 in labels with no predicted samples. Use `zero_division` parameter to control this behavior.\n",
            "  _warn_prf(average, modifier, f\"{metric.capitalize()} is\", len(result))\n"
          ]
        },
        {
          "output_type": "stream",
          "name": "stdout",
          "text": [
            "              precision    recall  f1-score   support\n",
            "\n",
            "         0.0       0.57      1.00      0.72    123240\n",
            "         1.0       0.00      0.00      0.00     94605\n",
            "\n",
            "    accuracy                           0.57    217845\n",
            "   macro avg       0.28      0.50      0.36    217845\n",
            "weighted avg       0.32      0.57      0.41    217845\n",
            "\n"
          ]
        },
        {
          "output_type": "stream",
          "name": "stderr",
          "text": [
            "/usr/local/lib/python3.11/dist-packages/sklearn/metrics/_classification.py:1565: UndefinedMetricWarning: Precision is ill-defined and being set to 0.0 in labels with no predicted samples. Use `zero_division` parameter to control this behavior.\n",
            "  _warn_prf(average, modifier, f\"{metric.capitalize()} is\", len(result))\n"
          ]
        }
      ]
    },
    {
      "cell_type": "markdown",
      "source": [
        "Verificando os tipos de valores de cada coluna para que a Regressão Logística possa funcionar."
      ],
      "metadata": {
        "id": "dQkbQHxz-En1"
      }
    },
    {
      "cell_type": "code",
      "source": [
        "print(X_train.dtypes)\n"
      ],
      "metadata": {
        "colab": {
          "base_uri": "https://localhost:8080/"
        },
        "id": "AByhcNWo3baS",
        "outputId": "830a5a23-2504-445a-c6bc-28b3d0b879fa"
      },
      "execution_count": 12,
      "outputs": [
        {
          "output_type": "stream",
          "name": "stdout",
          "text": [
            "id_votacao             int64\n",
            "id_deputado            int64\n",
            "tipoVoto               int64\n",
            "siglaUf                int64\n",
            "id_partido           float64\n",
            "id_proposicao          int64\n",
            "data                   int64\n",
            "sigla_orgao            int64\n",
            "cod_tipo               int64\n",
            "numero_proposicao      int64\n",
            "ano                    int64\n",
            "orientacao             int64\n",
            "id_autor             float64\n",
            "tema                   int64\n",
            "dtype: object\n"
          ]
        }
      ]
    },
    {
      "cell_type": "markdown",
      "source": [
        "Aplicando o modelo baseline – Regressão Logística."
      ],
      "metadata": {
        "id": "ttv81oW6-Kot"
      }
    },
    {
      "cell_type": "code",
      "source": [
        "logreg = LogisticRegression(max_iter=1000)\n",
        "logreg.fit(X_train, y_train)\n",
        "y_pred_logreg = logreg.predict(X_test)\n",
        "\n",
        "# Avaliação\n",
        "print(\"Desempenho da Regressão Logística:\")\n",
        "print(\"Acurácia:\", accuracy_score(y_test, y_pred_logreg))\n",
        "print(\"Matriz de Confusão:\")\n",
        "print(confusion_matrix(y_test, y_pred_logreg))\n",
        "print(\"Relatório de Classificação:\")\n",
        "print(classification_report(y_test, y_pred_logreg))\n"
      ],
      "metadata": {
        "colab": {
          "base_uri": "https://localhost:8080/"
        },
        "id": "d8BWG-ay0tRO",
        "outputId": "77bcca91-9631-4167-bc55-754ac20bca0b"
      },
      "execution_count": 13,
      "outputs": [
        {
          "output_type": "stream",
          "name": "stderr",
          "text": [
            "/usr/local/lib/python3.11/dist-packages/sklearn/linear_model/_logistic.py:465: ConvergenceWarning: lbfgs failed to converge (status=1):\n",
            "STOP: TOTAL NO. OF ITERATIONS REACHED LIMIT.\n",
            "\n",
            "Increase the number of iterations (max_iter) or scale the data as shown in:\n",
            "    https://scikit-learn.org/stable/modules/preprocessing.html\n",
            "Please also refer to the documentation for alternative solver options:\n",
            "    https://scikit-learn.org/stable/modules/linear_model.html#logistic-regression\n",
            "  n_iter_i = _check_optimize_result(\n"
          ]
        },
        {
          "output_type": "stream",
          "name": "stdout",
          "text": [
            "Desempenho da Regressão Logística:\n",
            "Acurácia: 0.6672083362023457\n",
            "Matriz de Confusão:\n",
            "[[108542  14698]\n",
            " [ 57799  36806]]\n",
            "Relatório de Classificação:\n",
            "              precision    recall  f1-score   support\n",
            "\n",
            "         0.0       0.65      0.88      0.75    123240\n",
            "         1.0       0.71      0.39      0.50     94605\n",
            "\n",
            "    accuracy                           0.67    217845\n",
            "   macro avg       0.68      0.63      0.63    217845\n",
            "weighted avg       0.68      0.67      0.64    217845\n",
            "\n"
          ]
        }
      ]
    },
    {
      "cell_type": "code",
      "source": [
        "conf_mat = confusion_matrix(y_test, y_pred_logreg)\n",
        "\n",
        "sns.heatmap(conf_mat, annot=True, fmt=\"d\", cmap=\"Blues\")\n",
        "plt.xlabel(\"Previsto\")\n",
        "plt.ylabel(\"Real\")\n",
        "plt.title(\"Matriz de Confusão – Regressão Logística\")\n",
        "plt.show()\n"
      ],
      "metadata": {
        "colab": {
          "base_uri": "https://localhost:8080/",
          "height": 472
        },
        "id": "bZZ9FGMN-ezS",
        "outputId": "371bb14e-d0eb-4140-f69f-40ed8a7e4837"
      },
      "execution_count": 15,
      "outputs": [
        {
          "output_type": "display_data",
          "data": {
            "text/plain": [
              "<Figure size 640x480 with 2 Axes>"
            ],
            "image/png": "[encoded data removed]"
          },
          "metadata": {}
        }
      ]
    }
  ]
}